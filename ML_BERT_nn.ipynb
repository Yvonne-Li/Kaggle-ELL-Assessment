{
  "cells": [
    {
      "cell_type": "markdown",
      "metadata": {
        "id": "view-in-github",
        "colab_type": "text"
      },
      "source": [
        "<a href=\"https://colab.research.google.com/github/Yvonne-Li/Kaggle-ELL-Assessment/blob/main/ML_BERT_nn.ipynb\" target=\"_parent\"><img src=\"https://colab.research.google.com/assets/colab-badge.svg\" alt=\"Open In Colab\"/></a>"
      ]
    },
    {
      "cell_type": "code",
      "execution_count": null,
      "id": "18fdc8a8",
      "metadata": {
        "colab": {
          "base_uri": "https://localhost:8080/"
        },
        "id": "18fdc8a8",
        "outputId": "840ba733-ad34-41da-ca81-6802701bdbad"
      },
      "outputs": [
        {
          "output_type": "stream",
          "name": "stderr",
          "text": [
            "[nltk_data] Downloading package stopwords to /root/nltk_data...\n",
            "[nltk_data]   Package stopwords is already up-to-date!\n"
          ]
        },
        {
          "output_type": "stream",
          "name": "stdout",
          "text": [
            "Drive already mounted at /content/gdrive; to attempt to forcibly remount, call drive.mount(\"/content/gdrive\", force_remount=True).\n"
          ]
        }
      ],
      "source": [
        "### Load necessary packages\n",
        "import pandas as pd\n",
        "import numpy as np\n",
        "import os\n",
        "import string\n",
        "import tensorflow as tf\n",
        "from tensorflow import keras\n",
        "import matplotlib.pyplot as plt\n",
        "\n",
        "import nltk\n",
        "from nltk.corpus import stopwords\n",
        "nltk.download('stopwords')\n",
        "stop_words = stopwords.words('english')\n",
        "import re\n",
        "\n",
        "import seaborn as sns\n",
        "\n",
        "from collections import Counter\n",
        "from collections import defaultdict\n",
        "from IPython.core.display import display, HTML\n",
        "\n",
        "\n",
        "from google.colab import drive\n",
        "drive.mount('/content/gdrive')\n",
        "\n",
        "\n",
        "absolute_path = '/content/gdrive/MyDrive/EEL_dataset/'"
      ]
    },
    {
      "cell_type": "code",
      "execution_count": null,
      "id": "8104079f",
      "metadata": {
        "scrolled": true,
        "id": "8104079f"
      },
      "outputs": [],
      "source": [
        "#### read in the dataset\n",
        "sample_sub = pd.read_csv(absolute_path + 'sample_submission.csv')\n",
        "test_ds = pd.read_csv(absolute_path + 'test.csv')\n",
        "train_ds = pd.read_csv(absolute_path + 'train.csv.zip')"
      ]
    },
    {
      "cell_type": "code",
      "execution_count": null,
      "id": "5a9166a9",
      "metadata": {
        "colab": {
          "base_uri": "https://localhost:8080/",
          "height": 424
        },
        "id": "5a9166a9",
        "outputId": "ac907cd7-6385-4e58-b155-1040ba8641f4"
      },
      "outputs": [
        {
          "output_type": "execute_result",
          "data": {
            "text/plain": [
              "           text_id                                          full_text  \\\n",
              "0     0016926B079C  I think that students would benefit from learn...   \n",
              "1     0022683E9EA5  When a problem is a change you have to let it ...   \n",
              "2     00299B378633  Dear, Principal\\n\\nIf u change the school poli...   \n",
              "3     003885A45F42  The best time in life is when you become yours...   \n",
              "4     0049B1DF5CCC  Small act of kindness can impact in other peop...   \n",
              "...            ...                                                ...   \n",
              "3906  FFD29828A873  I believe using cellphones in class for educat...   \n",
              "3907  FFD9A83B0849  Working alone, students do not have to argue w...   \n",
              "3908  FFDC4011AC9C  \"A problem is a chance for you to do your best...   \n",
              "3909  FFE16D704B16  Many people disagree with Albert Schweitzer's ...   \n",
              "3910  FFED00D6E0BD  Do you think that failure is the main thing fo...   \n",
              "\n",
              "      cohesion  syntax  vocabulary  phraseology  grammar  conventions  \n",
              "0          3.5     3.5         3.0          3.0      4.0          3.0  \n",
              "1          2.5     2.5         3.0          2.0      2.0          2.5  \n",
              "2          3.0     3.5         3.0          3.0      3.0          2.5  \n",
              "3          4.5     4.5         4.5          4.5      4.0          5.0  \n",
              "4          2.5     3.0         3.0          3.0      2.5          2.5  \n",
              "...        ...     ...         ...          ...      ...          ...  \n",
              "3906       2.5     3.0         3.0          3.5      2.5          2.5  \n",
              "3907       4.0     4.0         4.0          4.0      3.5          3.0  \n",
              "3908       2.5     3.0         3.0          3.0      3.5          3.0  \n",
              "3909       4.0     4.5         4.5          4.0      4.5          4.5  \n",
              "3910       3.5     2.5         3.5          3.0      3.0          3.5  \n",
              "\n",
              "[3911 rows x 8 columns]"
            ],
            "text/html": [
              "\n",
              "  <div id=\"df-d7ba002c-1098-4915-8862-b84b83725426\">\n",
              "    <div class=\"colab-df-container\">\n",
              "      <div>\n",
              "<style scoped>\n",
              "    .dataframe tbody tr th:only-of-type {\n",
              "        vertical-align: middle;\n",
              "    }\n",
              "\n",
              "    .dataframe tbody tr th {\n",
              "        vertical-align: top;\n",
              "    }\n",
              "\n",
              "    .dataframe thead th {\n",
              "        text-align: right;\n",
              "    }\n",
              "</style>\n",
              "<table border=\"1\" class=\"dataframe\">\n",
              "  <thead>\n",
              "    <tr style=\"text-align: right;\">\n",
              "      <th></th>\n",
              "      <th>text_id</th>\n",
              "      <th>full_text</th>\n",
              "      <th>cohesion</th>\n",
              "      <th>syntax</th>\n",
              "      <th>vocabulary</th>\n",
              "      <th>phraseology</th>\n",
              "      <th>grammar</th>\n",
              "      <th>conventions</th>\n",
              "    </tr>\n",
              "  </thead>\n",
              "  <tbody>\n",
              "    <tr>\n",
              "      <th>0</th>\n",
              "      <td>0016926B079C</td>\n",
              "      <td>I think that students would benefit from learn...</td>\n",
              "      <td>3.5</td>\n",
              "      <td>3.5</td>\n",
              "      <td>3.0</td>\n",
              "      <td>3.0</td>\n",
              "      <td>4.0</td>\n",
              "      <td>3.0</td>\n",
              "    </tr>\n",
              "    <tr>\n",
              "      <th>1</th>\n",
              "      <td>0022683E9EA5</td>\n",
              "      <td>When a problem is a change you have to let it ...</td>\n",
              "      <td>2.5</td>\n",
              "      <td>2.5</td>\n",
              "      <td>3.0</td>\n",
              "      <td>2.0</td>\n",
              "      <td>2.0</td>\n",
              "      <td>2.5</td>\n",
              "    </tr>\n",
              "    <tr>\n",
              "      <th>2</th>\n",
              "      <td>00299B378633</td>\n",
              "      <td>Dear, Principal\\n\\nIf u change the school poli...</td>\n",
              "      <td>3.0</td>\n",
              "      <td>3.5</td>\n",
              "      <td>3.0</td>\n",
              "      <td>3.0</td>\n",
              "      <td>3.0</td>\n",
              "      <td>2.5</td>\n",
              "    </tr>\n",
              "    <tr>\n",
              "      <th>3</th>\n",
              "      <td>003885A45F42</td>\n",
              "      <td>The best time in life is when you become yours...</td>\n",
              "      <td>4.5</td>\n",
              "      <td>4.5</td>\n",
              "      <td>4.5</td>\n",
              "      <td>4.5</td>\n",
              "      <td>4.0</td>\n",
              "      <td>5.0</td>\n",
              "    </tr>\n",
              "    <tr>\n",
              "      <th>4</th>\n",
              "      <td>0049B1DF5CCC</td>\n",
              "      <td>Small act of kindness can impact in other peop...</td>\n",
              "      <td>2.5</td>\n",
              "      <td>3.0</td>\n",
              "      <td>3.0</td>\n",
              "      <td>3.0</td>\n",
              "      <td>2.5</td>\n",
              "      <td>2.5</td>\n",
              "    </tr>\n",
              "    <tr>\n",
              "      <th>...</th>\n",
              "      <td>...</td>\n",
              "      <td>...</td>\n",
              "      <td>...</td>\n",
              "      <td>...</td>\n",
              "      <td>...</td>\n",
              "      <td>...</td>\n",
              "      <td>...</td>\n",
              "      <td>...</td>\n",
              "    </tr>\n",
              "    <tr>\n",
              "      <th>3906</th>\n",
              "      <td>FFD29828A873</td>\n",
              "      <td>I believe using cellphones in class for educat...</td>\n",
              "      <td>2.5</td>\n",
              "      <td>3.0</td>\n",
              "      <td>3.0</td>\n",
              "      <td>3.5</td>\n",
              "      <td>2.5</td>\n",
              "      <td>2.5</td>\n",
              "    </tr>\n",
              "    <tr>\n",
              "      <th>3907</th>\n",
              "      <td>FFD9A83B0849</td>\n",
              "      <td>Working alone, students do not have to argue w...</td>\n",
              "      <td>4.0</td>\n",
              "      <td>4.0</td>\n",
              "      <td>4.0</td>\n",
              "      <td>4.0</td>\n",
              "      <td>3.5</td>\n",
              "      <td>3.0</td>\n",
              "    </tr>\n",
              "    <tr>\n",
              "      <th>3908</th>\n",
              "      <td>FFDC4011AC9C</td>\n",
              "      <td>\"A problem is a chance for you to do your best...</td>\n",
              "      <td>2.5</td>\n",
              "      <td>3.0</td>\n",
              "      <td>3.0</td>\n",
              "      <td>3.0</td>\n",
              "      <td>3.5</td>\n",
              "      <td>3.0</td>\n",
              "    </tr>\n",
              "    <tr>\n",
              "      <th>3909</th>\n",
              "      <td>FFE16D704B16</td>\n",
              "      <td>Many people disagree with Albert Schweitzer's ...</td>\n",
              "      <td>4.0</td>\n",
              "      <td>4.5</td>\n",
              "      <td>4.5</td>\n",
              "      <td>4.0</td>\n",
              "      <td>4.5</td>\n",
              "      <td>4.5</td>\n",
              "    </tr>\n",
              "    <tr>\n",
              "      <th>3910</th>\n",
              "      <td>FFED00D6E0BD</td>\n",
              "      <td>Do you think that failure is the main thing fo...</td>\n",
              "      <td>3.5</td>\n",
              "      <td>2.5</td>\n",
              "      <td>3.5</td>\n",
              "      <td>3.0</td>\n",
              "      <td>3.0</td>\n",
              "      <td>3.5</td>\n",
              "    </tr>\n",
              "  </tbody>\n",
              "</table>\n",
              "<p>3911 rows × 8 columns</p>\n",
              "</div>\n",
              "      <button class=\"colab-df-convert\" onclick=\"convertToInteractive('df-d7ba002c-1098-4915-8862-b84b83725426')\"\n",
              "              title=\"Convert this dataframe to an interactive table.\"\n",
              "              style=\"display:none;\">\n",
              "        \n",
              "  <svg xmlns=\"http://www.w3.org/2000/svg\" height=\"24px\"viewBox=\"0 0 24 24\"\n",
              "       width=\"24px\">\n",
              "    <path d=\"M0 0h24v24H0V0z\" fill=\"none\"/>\n",
              "    <path d=\"M18.56 5.44l.94 2.06.94-2.06 2.06-.94-2.06-.94-.94-2.06-.94 2.06-2.06.94zm-11 1L8.5 8.5l.94-2.06 2.06-.94-2.06-.94L8.5 2.5l-.94 2.06-2.06.94zm10 10l.94 2.06.94-2.06 2.06-.94-2.06-.94-.94-2.06-.94 2.06-2.06.94z\"/><path d=\"M17.41 7.96l-1.37-1.37c-.4-.4-.92-.59-1.43-.59-.52 0-1.04.2-1.43.59L10.3 9.45l-7.72 7.72c-.78.78-.78 2.05 0 2.83L4 21.41c.39.39.9.59 1.41.59.51 0 1.02-.2 1.41-.59l7.78-7.78 2.81-2.81c.8-.78.8-2.07 0-2.86zM5.41 20L4 18.59l7.72-7.72 1.47 1.35L5.41 20z\"/>\n",
              "  </svg>\n",
              "      </button>\n",
              "      \n",
              "  <style>\n",
              "    .colab-df-container {\n",
              "      display:flex;\n",
              "      flex-wrap:wrap;\n",
              "      gap: 12px;\n",
              "    }\n",
              "\n",
              "    .colab-df-convert {\n",
              "      background-color: #E8F0FE;\n",
              "      border: none;\n",
              "      border-radius: 50%;\n",
              "      cursor: pointer;\n",
              "      display: none;\n",
              "      fill: #1967D2;\n",
              "      height: 32px;\n",
              "      padding: 0 0 0 0;\n",
              "      width: 32px;\n",
              "    }\n",
              "\n",
              "    .colab-df-convert:hover {\n",
              "      background-color: #E2EBFA;\n",
              "      box-shadow: 0px 1px 2px rgba(60, 64, 67, 0.3), 0px 1px 3px 1px rgba(60, 64, 67, 0.15);\n",
              "      fill: #174EA6;\n",
              "    }\n",
              "\n",
              "    [theme=dark] .colab-df-convert {\n",
              "      background-color: #3B4455;\n",
              "      fill: #D2E3FC;\n",
              "    }\n",
              "\n",
              "    [theme=dark] .colab-df-convert:hover {\n",
              "      background-color: #434B5C;\n",
              "      box-shadow: 0px 1px 3px 1px rgba(0, 0, 0, 0.15);\n",
              "      filter: drop-shadow(0px 1px 2px rgba(0, 0, 0, 0.3));\n",
              "      fill: #FFFFFF;\n",
              "    }\n",
              "  </style>\n",
              "\n",
              "      <script>\n",
              "        const buttonEl =\n",
              "          document.querySelector('#df-d7ba002c-1098-4915-8862-b84b83725426 button.colab-df-convert');\n",
              "        buttonEl.style.display =\n",
              "          google.colab.kernel.accessAllowed ? 'block' : 'none';\n",
              "\n",
              "        async function convertToInteractive(key) {\n",
              "          const element = document.querySelector('#df-d7ba002c-1098-4915-8862-b84b83725426');\n",
              "          const dataTable =\n",
              "            await google.colab.kernel.invokeFunction('convertToInteractive',\n",
              "                                                     [key], {});\n",
              "          if (!dataTable) return;\n",
              "\n",
              "          const docLinkHtml = 'Like what you see? Visit the ' +\n",
              "            '<a target=\"_blank\" href=https://colab.research.google.com/notebooks/data_table.ipynb>data table notebook</a>'\n",
              "            + ' to learn more about interactive tables.';\n",
              "          element.innerHTML = '';\n",
              "          dataTable['output_type'] = 'display_data';\n",
              "          await google.colab.output.renderOutput(dataTable, element);\n",
              "          const docLink = document.createElement('div');\n",
              "          docLink.innerHTML = docLinkHtml;\n",
              "          element.appendChild(docLink);\n",
              "        }\n",
              "      </script>\n",
              "    </div>\n",
              "  </div>\n",
              "  "
            ]
          },
          "metadata": {},
          "execution_count": 3
        }
      ],
      "source": [
        "## First look at the dataset.\n",
        "## text_id, text content and six grading metrics.\n",
        "train_ds"
      ]
    },
    {
      "cell_type": "code",
      "execution_count": null,
      "id": "b1537c60",
      "metadata": {
        "colab": {
          "base_uri": "https://localhost:8080/"
        },
        "id": "b1537c60",
        "outputId": "268b215d-af0f-4b70-e78b-6a28c5753bdc"
      },
      "outputs": [
        {
          "output_type": "execute_result",
          "data": {
            "text/plain": [
              "6"
            ]
          },
          "metadata": {},
          "execution_count": 4
        }
      ],
      "source": [
        "## get the grading metrics and saved as EEL_metrics.\n",
        "EEL_metrics = train_ds.columns[-6:]\n",
        "len(EEL_metrics)"
      ]
    },
    {
      "cell_type": "code",
      "execution_count": null,
      "id": "8447cc1e",
      "metadata": {
        "scrolled": false,
        "colab": {
          "base_uri": "https://localhost:8080/",
          "height": 369
        },
        "id": "8447cc1e",
        "outputId": "51905fd5-4851-442f-e3f0-1ed59b782a7d"
      },
      "outputs": [
        {
          "output_type": "display_data",
          "data": {
            "text/plain": [
              "<Figure size 1080x360 with 6 Axes>"
            ],
            "image/png": "[encoded data removed]"
          },
          "metadata": {
            "needs_background": "light"
          }
        }
      ],
      "source": [
        "# First check the dataset, num of each grade catergories\n",
        "# the distribution is quite imbalance, as the grades has only 9 different ranks\n",
        "## from 1 to 5 with 0.5 step\n",
        "fig, axes = plt.subplots(2, len(EEL_metrics)//2, figsize=(15,5))\n",
        "\n",
        "for i, EEL_metric in enumerate(EEL_metrics):\n",
        "    ax = axes.flat[i]\n",
        "    sns.histplot(x=EEL_metric, data=train_ds, linewidth=1.25, alpha=1, ax=ax, zorder=2)\n",
        "    ax.set_title(EEL_metric)\n",
        "    ax.set(xlabel=None, ylabel=None)\n",
        "\n",
        "#fig.suptitle('Output Variables')\n",
        "plt.tight_layout()\n",
        "plt.show()"
      ]
    },
    {
      "cell_type": "code",
      "execution_count": null,
      "id": "8dd3a4f2",
      "metadata": {
        "scrolled": true,
        "colab": {
          "base_uri": "https://localhost:8080/",
          "height": 400
        },
        "id": "8dd3a4f2",
        "outputId": "841bd4e4-fad5-4edc-b75f-a8db9d284a45"
      },
      "outputs": [
        {
          "output_type": "display_data",
          "data": {
            "text/plain": [
              "<Figure size 432x432 with 2 Axes>"
            ],
            "image/png": "[encoded data removed]"
          },
          "metadata": {
            "needs_background": "light"
          }
        }
      ],
      "source": [
        "# Frist glace at the correlations between these six metrics\n",
        "# somewhat correlated.\n",
        "corr = train_ds[EEL_metrics].corr()\n",
        "fig, ax = plt.subplots(figsize=(6,6))\n",
        "sns.heatmap(corr,\n",
        "            xticklabels=corr.columns, yticklabels=corr.columns,\n",
        "            square=True, annot=True, cmap=\"Blues\", fmt=\".2f\")\n",
        "plt.show()"
      ]
    },
    {
      "cell_type": "code",
      "execution_count": null,
      "id": "7852fbab",
      "metadata": {
        "scrolled": true,
        "colab": {
          "base_uri": "https://localhost:8080/",
          "height": 351
        },
        "id": "7852fbab",
        "outputId": "766f7781-65aa-4511-a0cb-88fb7d627326"
      },
      "outputs": [
        {
          "output_type": "display_data",
          "data": {
            "text/plain": [
              "<Figure size 1080x360 with 1 Axes>"
            ],
            "image/png": "[encoded data removed]"
          },
          "metadata": {
            "needs_background": "light"
          }
        }
      ],
      "source": [
        "### check the number of words in each essay.\n",
        "fig = plt.figure(figsize=(15, 5))\n",
        "train_ds['num_words'] = train_ds['full_text'].apply(lambda x: len(x.split()))\n",
        "sns.histplot(data=train_ds, x=\"num_words\")\n",
        "plt.title(\"Number of Words\")\n",
        "plt.show()"
      ]
    },
    {
      "cell_type": "code",
      "execution_count": null,
      "id": "f4a0059e",
      "metadata": {
        "scrolled": true,
        "id": "f4a0059e"
      },
      "outputs": [],
      "source": [
        "## Since this is imbalanced dataset, trying to split it with the same ratio as for\n",
        "## validation dataset, meanwhile, the practical distribution of the grades is quite\n",
        "## similar to what we see here, skewed gaussion distribution.\n",
        "\n",
        "train_ds['total_score'] = train_ds[EEL_metrics].sum(axis=1)\n",
        "train_ds_sorted = train_ds.sort_values('total_score')"
      ]
    },
    {
      "cell_type": "code",
      "execution_count": null,
      "id": "0f3c2c1e",
      "metadata": {
        "id": "0f3c2c1e"
      },
      "outputs": [],
      "source": [
        "## sorted by the total_score and then split the data by total_score\n",
        "train_ds_sorted['new_index'] = range(train_ds_sorted.shape[0])\n",
        "train_ds_sorted.set_index('new_index',inplace=True)"
      ]
    },
    {
      "cell_type": "code",
      "execution_count": null,
      "id": "6a95fdc4",
      "metadata": {
        "colab": {
          "base_uri": "https://localhost:8080/"
        },
        "id": "6a95fdc4",
        "outputId": "89918c9f-f2e8-4ab3-b670-d9c5ea53ca95"
      },
      "outputs": [
        {
          "output_type": "execute_result",
          "data": {
            "text/plain": [
              "text_id                                             767533E12569\n",
              "full_text      he is a good because they are the prescient an...\n",
              "cohesion                                                     1.0\n",
              "syntax                                                       1.0\n",
              "vocabulary                                                   1.0\n",
              "phraseology                                                  1.0\n",
              "grammar                                                      1.0\n",
              "conventions                                                  1.0\n",
              "num_words                                                    253\n",
              "total_score                                                  6.0\n",
              "Name: 0, dtype: object"
            ]
          },
          "metadata": {},
          "execution_count": 11
        }
      ],
      "source": [
        "train_ds_sorted.loc[0]"
      ]
    },
    {
      "cell_type": "code",
      "execution_count": null,
      "id": "d11b26b3",
      "metadata": {
        "scrolled": true,
        "id": "d11b26b3"
      },
      "outputs": [],
      "source": [
        "### split the dataset, every 4 texts, 1 was loaded for validation and 3 for training\n",
        "X_train=[]\n",
        "y_train=[]\n",
        "X_val=[]\n",
        "y_val=[]\n",
        "for i in range(train_ds_sorted.shape[0]):\n",
        "    if i % 4 == 0:\n",
        "        X_val.append(train_ds_sorted.loc[i]['full_text'])\n",
        "        y_val.append(train_ds_sorted.loc[i][EEL_metrics].values)\n",
        "    else:\n",
        "        X_train.append(train_ds_sorted.loc[i]['full_text'])\n",
        "        y_train.append(train_ds_sorted.loc[i][EEL_metrics].values)\n"
      ]
    },
    {
      "cell_type": "code",
      "execution_count": null,
      "id": "c9187ca5",
      "metadata": {
        "id": "c9187ca5"
      },
      "outputs": [],
      "source": [
        "### Merged them to dataframes\n",
        "x = pd.concat([pd.DataFrame(X_train,columns=['full_text']), pd.DataFrame(y_train, columns = EEL_metrics)], axis=1)\n",
        "x_val = pd.concat([pd.DataFrame(X_val,columns=['full_text']), pd.DataFrame(y_val, columns = EEL_metrics)], axis=1)"
      ]
    },
    {
      "cell_type": "code",
      "execution_count": null,
      "id": "007cb290",
      "metadata": {
        "colab": {
          "base_uri": "https://localhost:8080/",
          "height": 424
        },
        "id": "007cb290",
        "outputId": "8df11c4d-bbe4-4175-8486-1e4c6bdfffd4"
      },
      "outputs": [
        {
          "output_type": "execute_result",
          "data": {
            "text/plain": [
              "                                             full_text  cohesion  syntax  \\\n",
              "0    he is a good because they are the prescient an...       1.0     1.0   \n",
              "1    The students be required to take music ,drama ...       1.5     1.0   \n",
              "2    my name is Generic_Name and my story is about ...       1.0     1.0   \n",
              "3    Welll its going to be ah good beefit but in th...       1.5     1.5   \n",
              "4    she is not to bring a phones in school because...       1.0     1.5   \n",
              "..                                                 ...       ...     ...   \n",
              "973  The American jazz legend Duke Ellington said \"...       4.5     4.5   \n",
              "974  From my personal experience back in middle sch...       4.5     4.5   \n",
              "975  Students should not be allowed to graduate hig...       4.0     5.0   \n",
              "976  Dear School board,\\n\\nWhy does a student's edu...       5.0     5.0   \n",
              "977  Technology has always acted as a compelling an...       5.0     5.0   \n",
              "\n",
              "     vocabulary  phraseology  grammar  conventions  \n",
              "0           1.0          1.0      1.0          1.0  \n",
              "1           1.5          1.0      1.0          1.5  \n",
              "2           2.0          2.0      1.5          1.0  \n",
              "3           2.0          2.0      1.0          1.0  \n",
              "4           1.5          1.5      2.0          2.0  \n",
              "..          ...          ...      ...          ...  \n",
              "973         4.5          4.5      5.0          5.0  \n",
              "974         5.0          4.5      5.0          5.0  \n",
              "975         5.0          5.0      5.0          4.5  \n",
              "976         4.5          5.0      5.0          4.5  \n",
              "977         5.0          5.0      4.5          5.0  \n",
              "\n",
              "[978 rows x 7 columns]"
            ],
            "text/html": [
              "\n",
              "  <div id=\"df-c59aa9e9-607e-4c6d-95b6-839288322a28\">\n",
              "    <div class=\"colab-df-container\">\n",
              "      <div>\n",
              "<style scoped>\n",
              "    .dataframe tbody tr th:only-of-type {\n",
              "        vertical-align: middle;\n",
              "    }\n",
              "\n",
              "    .dataframe tbody tr th {\n",
              "        vertical-align: top;\n",
              "    }\n",
              "\n",
              "    .dataframe thead th {\n",
              "        text-align: right;\n",
              "    }\n",
              "</style>\n",
              "<table border=\"1\" class=\"dataframe\">\n",
              "  <thead>\n",
              "    <tr style=\"text-align: right;\">\n",
              "      <th></th>\n",
              "      <th>full_text</th>\n",
              "      <th>cohesion</th>\n",
              "      <th>syntax</th>\n",
              "      <th>vocabulary</th>\n",
              "      <th>phraseology</th>\n",
              "      <th>grammar</th>\n",
              "      <th>conventions</th>\n",
              "    </tr>\n",
              "  </thead>\n",
              "  <tbody>\n",
              "    <tr>\n",
              "      <th>0</th>\n",
              "      <td>he is a good because they are the prescient an...</td>\n",
              "      <td>1.0</td>\n",
              "      <td>1.0</td>\n",
              "      <td>1.0</td>\n",
              "      <td>1.0</td>\n",
              "      <td>1.0</td>\n",
              "      <td>1.0</td>\n",
              "    </tr>\n",
              "    <tr>\n",
              "      <th>1</th>\n",
              "      <td>The students be required to take music ,drama ...</td>\n",
              "      <td>1.5</td>\n",
              "      <td>1.0</td>\n",
              "      <td>1.5</td>\n",
              "      <td>1.0</td>\n",
              "      <td>1.0</td>\n",
              "      <td>1.5</td>\n",
              "    </tr>\n",
              "    <tr>\n",
              "      <th>2</th>\n",
              "      <td>my name is Generic_Name and my story is about ...</td>\n",
              "      <td>1.0</td>\n",
              "      <td>1.0</td>\n",
              "      <td>2.0</td>\n",
              "      <td>2.0</td>\n",
              "      <td>1.5</td>\n",
              "      <td>1.0</td>\n",
              "    </tr>\n",
              "    <tr>\n",
              "      <th>3</th>\n",
              "      <td>Welll its going to be ah good beefit but in th...</td>\n",
              "      <td>1.5</td>\n",
              "      <td>1.5</td>\n",
              "      <td>2.0</td>\n",
              "      <td>2.0</td>\n",
              "      <td>1.0</td>\n",
              "      <td>1.0</td>\n",
              "    </tr>\n",
              "    <tr>\n",
              "      <th>4</th>\n",
              "      <td>she is not to bring a phones in school because...</td>\n",
              "      <td>1.0</td>\n",
              "      <td>1.5</td>\n",
              "      <td>1.5</td>\n",
              "      <td>1.5</td>\n",
              "      <td>2.0</td>\n",
              "      <td>2.0</td>\n",
              "    </tr>\n",
              "    <tr>\n",
              "      <th>...</th>\n",
              "      <td>...</td>\n",
              "      <td>...</td>\n",
              "      <td>...</td>\n",
              "      <td>...</td>\n",
              "      <td>...</td>\n",
              "      <td>...</td>\n",
              "      <td>...</td>\n",
              "    </tr>\n",
              "    <tr>\n",
              "      <th>973</th>\n",
              "      <td>The American jazz legend Duke Ellington said \"...</td>\n",
              "      <td>4.5</td>\n",
              "      <td>4.5</td>\n",
              "      <td>4.5</td>\n",
              "      <td>4.5</td>\n",
              "      <td>5.0</td>\n",
              "      <td>5.0</td>\n",
              "    </tr>\n",
              "    <tr>\n",
              "      <th>974</th>\n",
              "      <td>From my personal experience back in middle sch...</td>\n",
              "      <td>4.5</td>\n",
              "      <td>4.5</td>\n",
              "      <td>5.0</td>\n",
              "      <td>4.5</td>\n",
              "      <td>5.0</td>\n",
              "      <td>5.0</td>\n",
              "    </tr>\n",
              "    <tr>\n",
              "      <th>975</th>\n",
              "      <td>Students should not be allowed to graduate hig...</td>\n",
              "      <td>4.0</td>\n",
              "      <td>5.0</td>\n",
              "      <td>5.0</td>\n",
              "      <td>5.0</td>\n",
              "      <td>5.0</td>\n",
              "      <td>4.5</td>\n",
              "    </tr>\n",
              "    <tr>\n",
              "      <th>976</th>\n",
              "      <td>Dear School board,\\n\\nWhy does a student's edu...</td>\n",
              "      <td>5.0</td>\n",
              "      <td>5.0</td>\n",
              "      <td>4.5</td>\n",
              "      <td>5.0</td>\n",
              "      <td>5.0</td>\n",
              "      <td>4.5</td>\n",
              "    </tr>\n",
              "    <tr>\n",
              "      <th>977</th>\n",
              "      <td>Technology has always acted as a compelling an...</td>\n",
              "      <td>5.0</td>\n",
              "      <td>5.0</td>\n",
              "      <td>5.0</td>\n",
              "      <td>5.0</td>\n",
              "      <td>4.5</td>\n",
              "      <td>5.0</td>\n",
              "    </tr>\n",
              "  </tbody>\n",
              "</table>\n",
              "<p>978 rows × 7 columns</p>\n",
              "</div>\n",
              "      <button class=\"colab-df-convert\" onclick=\"convertToInteractive('df-c59aa9e9-607e-4c6d-95b6-839288322a28')\"\n",
              "              title=\"Convert this dataframe to an interactive table.\"\n",
              "              style=\"display:none;\">\n",
              "        \n",
              "  <svg xmlns=\"http://www.w3.org/2000/svg\" height=\"24px\"viewBox=\"0 0 24 24\"\n",
              "       width=\"24px\">\n",
              "    <path d=\"M0 0h24v24H0V0z\" fill=\"none\"/>\n",
              "    <path d=\"M18.56 5.44l.94 2.06.94-2.06 2.06-.94-2.06-.94-.94-2.06-.94 2.06-2.06.94zm-11 1L8.5 8.5l.94-2.06 2.06-.94-2.06-.94L8.5 2.5l-.94 2.06-2.06.94zm10 10l.94 2.06.94-2.06 2.06-.94-2.06-.94-.94-2.06-.94 2.06-2.06.94z\"/><path d=\"M17.41 7.96l-1.37-1.37c-.4-.4-.92-.59-1.43-.59-.52 0-1.04.2-1.43.59L10.3 9.45l-7.72 7.72c-.78.78-.78 2.05 0 2.83L4 21.41c.39.39.9.59 1.41.59.51 0 1.02-.2 1.41-.59l7.78-7.78 2.81-2.81c.8-.78.8-2.07 0-2.86zM5.41 20L4 18.59l7.72-7.72 1.47 1.35L5.41 20z\"/>\n",
              "  </svg>\n",
              "      </button>\n",
              "      \n",
              "  <style>\n",
              "    .colab-df-container {\n",
              "      display:flex;\n",
              "      flex-wrap:wrap;\n",
              "      gap: 12px;\n",
              "    }\n",
              "\n",
              "    .colab-df-convert {\n",
              "      background-color: #E8F0FE;\n",
              "      border: none;\n",
              "      border-radius: 50%;\n",
              "      cursor: pointer;\n",
              "      display: none;\n",
              "      fill: #1967D2;\n",
              "      height: 32px;\n",
              "      padding: 0 0 0 0;\n",
              "      width: 32px;\n",
              "    }\n",
              "\n",
              "    .colab-df-convert:hover {\n",
              "      background-color: #E2EBFA;\n",
              "      box-shadow: 0px 1px 2px rgba(60, 64, 67, 0.3), 0px 1px 3px 1px rgba(60, 64, 67, 0.15);\n",
              "      fill: #174EA6;\n",
              "    }\n",
              "\n",
              "    [theme=dark] .colab-df-convert {\n",
              "      background-color: #3B4455;\n",
              "      fill: #D2E3FC;\n",
              "    }\n",
              "\n",
              "    [theme=dark] .colab-df-convert:hover {\n",
              "      background-color: #434B5C;\n",
              "      box-shadow: 0px 1px 3px 1px rgba(0, 0, 0, 0.15);\n",
              "      filter: drop-shadow(0px 1px 2px rgba(0, 0, 0, 0.3));\n",
              "      fill: #FFFFFF;\n",
              "    }\n",
              "  </style>\n",
              "\n",
              "      <script>\n",
              "        const buttonEl =\n",
              "          document.querySelector('#df-c59aa9e9-607e-4c6d-95b6-839288322a28 button.colab-df-convert');\n",
              "        buttonEl.style.display =\n",
              "          google.colab.kernel.accessAllowed ? 'block' : 'none';\n",
              "\n",
              "        async function convertToInteractive(key) {\n",
              "          const element = document.querySelector('#df-c59aa9e9-607e-4c6d-95b6-839288322a28');\n",
              "          const dataTable =\n",
              "            await google.colab.kernel.invokeFunction('convertToInteractive',\n",
              "                                                     [key], {});\n",
              "          if (!dataTable) return;\n",
              "\n",
              "          const docLinkHtml = 'Like what you see? Visit the ' +\n",
              "            '<a target=\"_blank\" href=https://colab.research.google.com/notebooks/data_table.ipynb>data table notebook</a>'\n",
              "            + ' to learn more about interactive tables.';\n",
              "          element.innerHTML = '';\n",
              "          dataTable['output_type'] = 'display_data';\n",
              "          await google.colab.output.renderOutput(dataTable, element);\n",
              "          const docLink = document.createElement('div');\n",
              "          docLink.innerHTML = docLinkHtml;\n",
              "          element.appendChild(docLink);\n",
              "        }\n",
              "      </script>\n",
              "    </div>\n",
              "  </div>\n",
              "  "
            ]
          },
          "metadata": {},
          "execution_count": 14
        }
      ],
      "source": [
        "## take a look at the merged validation dataset\n",
        "x_val"
      ]
    },
    {
      "cell_type": "code",
      "execution_count": null,
      "id": "10fbc4f8",
      "metadata": {
        "scrolled": false,
        "colab": {
          "base_uri": "https://localhost:8080/",
          "height": 369
        },
        "id": "10fbc4f8",
        "outputId": "c5ead260-5c55-4a08-da9d-644390830ed7"
      },
      "outputs": [
        {
          "output_type": "display_data",
          "data": {
            "text/plain": [
              "<Figure size 1080x360 with 6 Axes>"
            ],
            "image/png": "[encoded data removed]"
          },
          "metadata": {
            "needs_background": "light"
          }
        }
      ],
      "source": [
        "## check the distribution of both training and validation distributions\n",
        "## the way we split is enough to represent the dataset\n",
        "fig, axes = plt.subplots(2, len(EEL_metrics)//2, figsize=(15,5))\n",
        "\n",
        "for i, EEL_metric in enumerate(EEL_metrics):\n",
        "    ax = axes.flat[i]\n",
        "    sns.histplot(x=EEL_metric, data=x, linewidth=1.25, alpha=1, ax=ax, zorder=2)\n",
        "    sns.histplot(x=EEL_metric, data=x_val, linewidth=1.25, alpha=1, ax=ax, zorder=2, color = 'red')\n",
        "    ax.set_title(EEL_metric)\n",
        "    ax.set(xlabel=None, ylabel=None)\n",
        "\n",
        "#fig.suptitle('Output Variables')\n",
        "plt.tight_layout()\n",
        "plt.show()"
      ]
    },
    {
      "cell_type": "code",
      "execution_count": null,
      "id": "d504d158",
      "metadata": {
        "scrolled": true,
        "id": "d504d158"
      },
      "outputs": [],
      "source": [
        "### defined a preprocessing function for the text,\n",
        "### since we are evaluate all six different metrices, the punctuation and out of vocabulory are\n",
        "### kind of important, so here only lower the case and replaced few things, like spaces.\n",
        "def preprocessing(doc):\n",
        "    doc = doc.lower()\n",
        "    doc = re.sub('\\[.*?\\]', ' ', doc)\n",
        "    #doc = re.sub('[%s]' % re.escape(string.punctuation), ' ', doc)\n",
        "    #doc = re.sub('\\w*\\d\\w*',' ', doc)\n",
        "    doc = re.sub('\\n','', doc)\n",
        "    #doc = re.sub('[''\"\"...]',' ', doc)\n",
        "    doc = ' '.join(doc.split())\n",
        "\n",
        "    return doc"
      ]
    },
    {
      "cell_type": "code",
      "execution_count": null,
      "id": "244826df",
      "metadata": {
        "id": "244826df"
      },
      "outputs": [],
      "source": [
        "### append the cleaned text into the dataframe\n",
        "x['cleaned_full_text'] = x['full_text'].apply(lambda x: preprocessing(x))\n",
        "x_val['cleaned_full_text'] = x_val['full_text'].apply(lambda x: preprocessing(x))\n",
        "test_ds['cleaned_full_text'] = test_ds['full_text'].apply(lambda x: preprocessing(x))\n"
      ]
    },
    {
      "cell_type": "code",
      "source": [
        "### we can also check the polarity of the dataset using TextBlob\n",
        "from textblob import TextBlob\n",
        "\n",
        "textbb = []\n",
        "for i in range(train_ds.shape[0]):\n",
        "  textbb.append(TextBlob(train_ds['full_text'][i]).sentiment.polarity)\n"
      ],
      "metadata": {
        "id": "YZVT156xCv-U"
      },
      "id": "YZVT156xCv-U",
      "execution_count": null,
      "outputs": []
    },
    {
      "cell_type": "code",
      "source": [
        "len(textbb)"
      ],
      "metadata": {
        "colab": {
          "base_uri": "https://localhost:8080/"
        },
        "id": "Jx1CowqIDyum",
        "outputId": "01af3e6d-5d47-4540-f69c-4f7be523455c"
      },
      "id": "Jx1CowqIDyum",
      "execution_count": null,
      "outputs": [
        {
          "output_type": "execute_result",
          "data": {
            "text/plain": [
              "3911"
            ]
          },
          "metadata": {},
          "execution_count": 19
        }
      ]
    },
    {
      "cell_type": "code",
      "execution_count": null,
      "id": "c7ed0b4b",
      "metadata": {
        "id": "c7ed0b4b"
      },
      "outputs": [],
      "source": [
        "EEL_metrics = ['cohesion', 'syntax', 'vocabulary', 'phraseology', 'grammar', 'conventions']"
      ]
    },
    {
      "cell_type": "code",
      "execution_count": null,
      "id": "96f461a6",
      "metadata": {
        "colab": {
          "base_uri": "https://localhost:8080/"
        },
        "id": "96f461a6",
        "outputId": "6995af8a-2eaa-4fc1-da4b-3c9ddc18ae9d"
      },
      "outputs": [
        {
          "output_type": "stream",
          "name": "stdout",
          "text": [
            "2.11.0\n"
          ]
        }
      ],
      "source": [
        "# check the tensorflow version\n",
        "print(tf.__version__)"
      ]
    },
    {
      "cell_type": "code",
      "source": [
        "#### need to install transformers everytime and also restart the runtime again.\n",
        "#pip install transformers"
      ],
      "metadata": {
        "id": "NUW3jgO51JBr"
      },
      "id": "NUW3jgO51JBr",
      "execution_count": null,
      "outputs": []
    },
    {
      "cell_type": "code",
      "source": [
        "### same to install tensorflow_text\n",
        "pip install tensorflow_text"
      ],
      "metadata": {
        "colab": {
          "base_uri": "https://localhost:8080/"
        },
        "id": "BbXi3fEG92NM",
        "outputId": "247e2330-8d03-4b0e-b66f-ff573ed3c755"
      },
      "id": "BbXi3fEG92NM",
      "execution_count": null,
      "outputs": [
        {
          "output_type": "stream",
          "name": "stdout",
          "text": [
            "Looking in indexes: https://pypi.org/simple, https://us-python.pkg.dev/colab-wheels/public/simple/\n",
            "Requirement already satisfied: tensorflow_text in /usr/local/lib/python3.8/dist-packages (2.11.0)\n",
            "Requirement already satisfied: tensorflow-hub>=0.8.0 in /usr/local/lib/python3.8/dist-packages (from tensorflow_text) (0.12.0)\n",
            "Requirement already satisfied: tensorflow<2.12,>=2.11.0 in /usr/local/lib/python3.8/dist-packages (from tensorflow_text) (2.11.0)\n",
            "Requirement already satisfied: astunparse>=1.6.0 in /usr/local/lib/python3.8/dist-packages (from tensorflow<2.12,>=2.11.0->tensorflow_text) (1.6.3)\n",
            "Requirement already satisfied: tensorflow-estimator<2.12,>=2.11.0 in /usr/local/lib/python3.8/dist-packages (from tensorflow<2.12,>=2.11.0->tensorflow_text) (2.11.0)\n",
            "Requirement already satisfied: gast<=0.4.0,>=0.2.1 in /usr/local/lib/python3.8/dist-packages (from tensorflow<2.12,>=2.11.0->tensorflow_text) (0.4.0)\n",
            "Requirement already satisfied: tensorflow-io-gcs-filesystem>=0.23.1 in /usr/local/lib/python3.8/dist-packages (from tensorflow<2.12,>=2.11.0->tensorflow_text) (0.28.0)\n",
            "Requirement already satisfied: termcolor>=1.1.0 in /usr/local/lib/python3.8/dist-packages (from tensorflow<2.12,>=2.11.0->tensorflow_text) (2.1.1)\n",
            "Requirement already satisfied: protobuf<3.20,>=3.9.2 in /usr/local/lib/python3.8/dist-packages (from tensorflow<2.12,>=2.11.0->tensorflow_text) (3.19.6)\n",
            "Requirement already satisfied: grpcio<2.0,>=1.24.3 in /usr/local/lib/python3.8/dist-packages (from tensorflow<2.12,>=2.11.0->tensorflow_text) (1.50.0)\n",
            "Requirement already satisfied: google-pasta>=0.1.1 in /usr/local/lib/python3.8/dist-packages (from tensorflow<2.12,>=2.11.0->tensorflow_text) (0.2.0)\n",
            "Requirement already satisfied: typing-extensions>=3.6.6 in /usr/local/lib/python3.8/dist-packages (from tensorflow<2.12,>=2.11.0->tensorflow_text) (4.1.1)\n",
            "Requirement already satisfied: six>=1.12.0 in /usr/local/lib/python3.8/dist-packages (from tensorflow<2.12,>=2.11.0->tensorflow_text) (1.15.0)\n",
            "Requirement already satisfied: libclang>=13.0.0 in /usr/local/lib/python3.8/dist-packages (from tensorflow<2.12,>=2.11.0->tensorflow_text) (14.0.6)\n",
            "Requirement already satisfied: packaging in /usr/local/lib/python3.8/dist-packages (from tensorflow<2.12,>=2.11.0->tensorflow_text) (21.3)\n",
            "Requirement already satisfied: wrapt>=1.11.0 in /usr/local/lib/python3.8/dist-packages (from tensorflow<2.12,>=2.11.0->tensorflow_text) (1.14.1)\n",
            "Requirement already satisfied: h5py>=2.9.0 in /usr/local/lib/python3.8/dist-packages (from tensorflow<2.12,>=2.11.0->tensorflow_text) (3.1.0)\n",
            "Requirement already satisfied: absl-py>=1.0.0 in /usr/local/lib/python3.8/dist-packages (from tensorflow<2.12,>=2.11.0->tensorflow_text) (1.3.0)\n",
            "Requirement already satisfied: setuptools in /usr/local/lib/python3.8/dist-packages (from tensorflow<2.12,>=2.11.0->tensorflow_text) (57.4.0)\n",
            "Requirement already satisfied: tensorboard<2.12,>=2.11 in /usr/local/lib/python3.8/dist-packages (from tensorflow<2.12,>=2.11.0->tensorflow_text) (2.11.0)\n",
            "Requirement already satisfied: keras<2.12,>=2.11.0 in /usr/local/lib/python3.8/dist-packages (from tensorflow<2.12,>=2.11.0->tensorflow_text) (2.11.0)\n",
            "Requirement already satisfied: opt-einsum>=2.3.2 in /usr/local/lib/python3.8/dist-packages (from tensorflow<2.12,>=2.11.0->tensorflow_text) (3.3.0)\n",
            "Requirement already satisfied: numpy>=1.20 in /usr/local/lib/python3.8/dist-packages (from tensorflow<2.12,>=2.11.0->tensorflow_text) (1.21.6)\n",
            "Requirement already satisfied: flatbuffers>=2.0 in /usr/local/lib/python3.8/dist-packages (from tensorflow<2.12,>=2.11.0->tensorflow_text) (22.11.23)\n",
            "Requirement already satisfied: wheel<1.0,>=0.23.0 in /usr/local/lib/python3.8/dist-packages (from astunparse>=1.6.0->tensorflow<2.12,>=2.11.0->tensorflow_text) (0.38.4)\n",
            "Requirement already satisfied: google-auth-oauthlib<0.5,>=0.4.1 in /usr/local/lib/python3.8/dist-packages (from tensorboard<2.12,>=2.11->tensorflow<2.12,>=2.11.0->tensorflow_text) (0.4.6)\n",
            "Requirement already satisfied: markdown>=2.6.8 in /usr/local/lib/python3.8/dist-packages (from tensorboard<2.12,>=2.11->tensorflow<2.12,>=2.11.0->tensorflow_text) (3.4.1)\n",
            "Requirement already satisfied: requests<3,>=2.21.0 in /usr/local/lib/python3.8/dist-packages (from tensorboard<2.12,>=2.11->tensorflow<2.12,>=2.11.0->tensorflow_text) (2.23.0)\n",
            "Requirement already satisfied: tensorboard-data-server<0.7.0,>=0.6.0 in /usr/local/lib/python3.8/dist-packages (from tensorboard<2.12,>=2.11->tensorflow<2.12,>=2.11.0->tensorflow_text) (0.6.1)\n",
            "Requirement already satisfied: tensorboard-plugin-wit>=1.6.0 in /usr/local/lib/python3.8/dist-packages (from tensorboard<2.12,>=2.11->tensorflow<2.12,>=2.11.0->tensorflow_text) (1.8.1)\n",
            "Requirement already satisfied: werkzeug>=1.0.1 in /usr/local/lib/python3.8/dist-packages (from tensorboard<2.12,>=2.11->tensorflow<2.12,>=2.11.0->tensorflow_text) (1.0.1)\n",
            "Requirement already satisfied: google-auth<3,>=1.6.3 in /usr/local/lib/python3.8/dist-packages (from tensorboard<2.12,>=2.11->tensorflow<2.12,>=2.11.0->tensorflow_text) (2.14.1)\n",
            "Requirement already satisfied: pyasn1-modules>=0.2.1 in /usr/local/lib/python3.8/dist-packages (from google-auth<3,>=1.6.3->tensorboard<2.12,>=2.11->tensorflow<2.12,>=2.11.0->tensorflow_text) (0.2.8)\n",
            "Requirement already satisfied: rsa<5,>=3.1.4 in /usr/local/lib/python3.8/dist-packages (from google-auth<3,>=1.6.3->tensorboard<2.12,>=2.11->tensorflow<2.12,>=2.11.0->tensorflow_text) (4.9)\n",
            "Requirement already satisfied: cachetools<6.0,>=2.0.0 in /usr/local/lib/python3.8/dist-packages (from google-auth<3,>=1.6.3->tensorboard<2.12,>=2.11->tensorflow<2.12,>=2.11.0->tensorflow_text) (5.2.0)\n",
            "Requirement already satisfied: requests-oauthlib>=0.7.0 in /usr/local/lib/python3.8/dist-packages (from google-auth-oauthlib<0.5,>=0.4.1->tensorboard<2.12,>=2.11->tensorflow<2.12,>=2.11.0->tensorflow_text) (1.3.1)\n",
            "Requirement already satisfied: importlib-metadata>=4.4 in /usr/local/lib/python3.8/dist-packages (from markdown>=2.6.8->tensorboard<2.12,>=2.11->tensorflow<2.12,>=2.11.0->tensorflow_text) (4.13.0)\n",
            "Requirement already satisfied: zipp>=0.5 in /usr/local/lib/python3.8/dist-packages (from importlib-metadata>=4.4->markdown>=2.6.8->tensorboard<2.12,>=2.11->tensorflow<2.12,>=2.11.0->tensorflow_text) (3.10.0)\n",
            "Requirement already satisfied: pyasn1<0.5.0,>=0.4.6 in /usr/local/lib/python3.8/dist-packages (from pyasn1-modules>=0.2.1->google-auth<3,>=1.6.3->tensorboard<2.12,>=2.11->tensorflow<2.12,>=2.11.0->tensorflow_text) (0.4.8)\n",
            "Requirement already satisfied: urllib3!=1.25.0,!=1.25.1,<1.26,>=1.21.1 in /usr/local/lib/python3.8/dist-packages (from requests<3,>=2.21.0->tensorboard<2.12,>=2.11->tensorflow<2.12,>=2.11.0->tensorflow_text) (1.24.3)\n",
            "Requirement already satisfied: certifi>=2017.4.17 in /usr/local/lib/python3.8/dist-packages (from requests<3,>=2.21.0->tensorboard<2.12,>=2.11->tensorflow<2.12,>=2.11.0->tensorflow_text) (2022.9.24)\n",
            "Requirement already satisfied: chardet<4,>=3.0.2 in /usr/local/lib/python3.8/dist-packages (from requests<3,>=2.21.0->tensorboard<2.12,>=2.11->tensorflow<2.12,>=2.11.0->tensorflow_text) (3.0.4)\n",
            "Requirement already satisfied: idna<3,>=2.5 in /usr/local/lib/python3.8/dist-packages (from requests<3,>=2.21.0->tensorboard<2.12,>=2.11->tensorflow<2.12,>=2.11.0->tensorflow_text) (2.10)\n",
            "Requirement already satisfied: oauthlib>=3.0.0 in /usr/local/lib/python3.8/dist-packages (from requests-oauthlib>=0.7.0->google-auth-oauthlib<0.5,>=0.4.1->tensorboard<2.12,>=2.11->tensorflow<2.12,>=2.11.0->tensorflow_text) (3.2.2)\n",
            "Requirement already satisfied: pyparsing!=3.0.5,>=2.0.2 in /usr/local/lib/python3.8/dist-packages (from packaging->tensorflow<2.12,>=2.11.0->tensorflow_text) (3.0.9)\n"
          ]
        }
      ]
    },
    {
      "cell_type": "code",
      "execution_count": null,
      "id": "d43f8598",
      "metadata": {
        "id": "d43f8598"
      },
      "outputs": [],
      "source": [
        "### import neccessary packages again\n",
        "import os\n",
        "import shutil\n",
        "\n",
        "import tensorflow as tf\n",
        "import tensorflow_hub as hub\n",
        "import tensorflow_text as text\n",
        "\n",
        "tf.get_logger().setLevel('ERROR')"
      ]
    },
    {
      "cell_type": "code",
      "execution_count": null,
      "id": "75ba8b08",
      "metadata": {
        "id": "75ba8b08",
        "colab": {
          "base_uri": "https://localhost:8080/"
        },
        "outputId": "6ff379b3-12f6-419f-d543-ab150bc71cb6"
      },
      "outputs": [
        {
          "output_type": "stream",
          "name": "stdout",
          "text": [
            "BERT model selected           : https://tfhub.dev/tensorflow/small_bert/bert_en_uncased_L-4_H-512_A-8/1\n",
            "Preprocess model auto-selected: https://tfhub.dev/tensorflow/bert_en_uncased_preprocess/3\n"
          ]
        }
      ],
      "source": [
        "# Load the  a BERT model to fine-tune\n",
        "# here also added few other versions of BERT\n",
        "bert_model_name = 'small_bert/bert_en_uncased_L-4_H-512_A-8'\n",
        "\n",
        "map_name_to_handle = {\n",
        "    'small_bert/bert_en_uncased_L-4_H-512_A-8':\n",
        "        'https://tfhub.dev/tensorflow/small_bert/bert_en_uncased_L-4_H-512_A-8/1',\n",
        "    'small_bert/bert_en_uncased_L-4_H-768_A-12':\n",
        "        'https://tfhub.dev/tensorflow/small_bert/bert_en_uncased_L-4_H-768_A-12/1',\n",
        "    'small_bert/bert_en_uncased_L-6_H-128_A-2':\n",
        "        'https://tfhub.dev/tensorflow/small_bert/bert_en_uncased_L-6_H-128_A-2/1'\n",
        "}\n",
        "\n",
        "map_model_to_preprocess = {\n",
        "\n",
        "    'small_bert/bert_en_uncased_L-4_H-256_A-4':\n",
        "        'https://tfhub.dev/tensorflow/bert_en_uncased_preprocess/3',\n",
        "    'small_bert/bert_en_uncased_L-4_H-512_A-8':\n",
        "        'https://tfhub.dev/tensorflow/bert_en_uncased_preprocess/3',\n",
        "    'small_bert/bert_en_uncased_L-4_H-768_A-12':\n",
        "        'https://tfhub.dev/tensorflow/bert_en_uncased_preprocess/3'\n",
        "}\n",
        "\n",
        "tfhub_handle_encoder = map_name_to_handle[bert_model_name]\n",
        "tfhub_handle_preprocess = map_model_to_preprocess[bert_model_name]\n",
        "\n",
        "print(f'BERT model selected           : {tfhub_handle_encoder}')\n",
        "print(f'Preprocess model auto-selected: {tfhub_handle_preprocess}')"
      ]
    },
    {
      "cell_type": "code",
      "execution_count": null,
      "id": "da948ab5",
      "metadata": {
        "id": "da948ab5"
      },
      "outputs": [],
      "source": [
        "## we can start to build our own classifier model\n",
        "## with few a output layer of 9 neurons for 9 classes.\n",
        "\n",
        "## tried with an extra layer, took too long\n",
        "##\n",
        "from tensorflow.keras import activations\n",
        "\n",
        "def build_classifier_model():\n",
        "\n",
        "  #tb_input = tf.keras.layers.Input(shape=(1,), name = 'polarity')\n",
        "  #y = tf.keras.layers.Dense(64, activation=\"relu\")(tb_input)\n",
        "\n",
        "  text_input = tf.keras.layers.Input(shape=(), dtype=tf.string, name='text')\n",
        "\n",
        "  preprocessing_layer = hub.KerasLayer(tfhub_handle_preprocess, name='preprocessing')\n",
        "  encoder_inputs = preprocessing_layer(text_input)\n",
        "\n",
        "  encoder = hub.KerasLayer(tfhub_handle_encoder, trainable=True, name='BERT_encoder')\n",
        "  outputs = encoder(encoder_inputs)\n",
        "  net = outputs['pooled_output']\n",
        "\n",
        "\n",
        "  Dropout1 = tf.keras.layers.Dropout(0.3)(net)\n",
        "  #dense1 = tf.keras.layers.Dense(64, activation=activations.relu, kernel_initializer=\"he_normal\")(Dropout1)\n",
        "  #combined1 = tf.concatenate([dense1, y ])\n",
        "  #Dropout11 = tf.keras.layers.Dropout(0.3)(dense1)\n",
        "  output1 = tf.keras.layers.Dense(9, activation = 'softmax', name=EEL_metrics[0])(Dropout1)\n",
        "\n",
        "\n",
        "  Dropout2 = tf.keras.layers.Dropout(0.3)(net)\n",
        "  #dense2 = tf.keras.layers.Dense(64, activation=activations.relu, kernel_initializer=\"he_normal\")(Dropout2)\n",
        "  #Dropout21 = tf.keras.layers.Dropout(0.3)(dense2)\n",
        "  output2 = tf.keras.layers.Dense(9,activation = 'softmax', name=EEL_metrics[1])(Dropout2)\n",
        "\n",
        "  Dropout3 = tf.keras.layers.Dropout(0.3)(net)\n",
        "  #dense3 = tf.keras.layers.Dense(64, activation=activations.relu, kernel_initializer=\"he_normal\")(Dropout3)\n",
        "  #Dropout31 = tf.keras.layers.Dropout(0.3)(dense3)\n",
        "  output3 = tf.keras.layers.Dense(9, activation = 'softmax',name=EEL_metrics[2])(Dropout3)\n",
        "\n",
        "  Dropout4 = tf.keras.layers.Dropout(0.3)(net)\n",
        "  #dense4 = tf.keras.layers.Dense(64, activation=activations.relu, kernel_initializer=\"he_normal\")(Dropout4)\n",
        "  #Dropout41 = tf.keras.layers.Dropout(0.3)(dense4)\n",
        "  output4 = tf.keras.layers.Dense(9,activation = 'softmax', name=EEL_metrics[3])(Dropout4)\n",
        "\n",
        "  Dropout5 = tf.keras.layers.Dropout(0.3)(net)\n",
        "  #dense5 = tf.keras.layers.Dense(64, activation=activations.relu, kernel_initializer=\"he_normal\")(Dropout5)\n",
        "  #Dropout51 = tf.keras.layers.Dropout(0.3)(dense5)\n",
        "  output5 = tf.keras.layers.Dense(9, activation = 'softmax',name=EEL_metrics[4])(Dropout5)\n",
        "\n",
        "  Dropout6 = tf.keras.layers.Dropout(0.3)(net)\n",
        "  #dense6 = tf.keras.layers.Dense(64, activation=activations.relu, kernel_initializer=\"he_normal\")(Dropout6)\n",
        "  #Dropout61 = tf.keras.layers.Dropout(0.3)(dense6)\n",
        "  output6 = tf.keras.layers.Dense(9,activation = 'softmax', name=EEL_metrics[5])(Dropout6)\n",
        "\n",
        "\n",
        "\n",
        "  return tf.keras.Model(text_input, outputs = [output1, output2, output3, output4, output5, output6])"
      ]
    },
    {
      "cell_type": "markdown",
      "source": [],
      "metadata": {
        "id": "wvX4Cta6f0g7"
      },
      "id": "wvX4Cta6f0g7"
    },
    {
      "cell_type": "code",
      "execution_count": null,
      "id": "a89de96a",
      "metadata": {
        "id": "a89de96a"
      },
      "outputs": [],
      "source": [
        "classifier_model = build_classifier_model()"
      ]
    },
    {
      "cell_type": "code",
      "source": [
        "classifier_model.summary()"
      ],
      "metadata": {
        "id": "JCDO84w3-z5m",
        "colab": {
          "base_uri": "https://localhost:8080/"
        },
        "outputId": "3a3133aa-86eb-48fd-8417-7171c3ce6ea3"
      },
      "id": "JCDO84w3-z5m",
      "execution_count": null,
      "outputs": [
        {
          "output_type": "stream",
          "name": "stdout",
          "text": [
            "Model: \"model_6\"\n",
            "__________________________________________________________________________________________________\n",
            " Layer (type)                   Output Shape         Param #     Connected to                     \n",
            "==================================================================================================\n",
            " text (InputLayer)              [(None,)]            0           []                               \n",
            "                                                                                                  \n",
            " preprocessing (KerasLayer)     {'input_word_ids':   0           ['text[0][0]']                   \n",
            "                                (None, 128),                                                      \n",
            "                                 'input_type_ids':                                                \n",
            "                                (None, 128),                                                      \n",
            "                                 'input_mask': (Non                                               \n",
            "                                e, 128)}                                                          \n",
            "                                                                                                  \n",
            " BERT_encoder (KerasLayer)      {'pooled_output': (  28763649    ['preprocessing[0][0]',          \n",
            "                                None, 512),                       'preprocessing[0][1]',          \n",
            "                                 'sequence_output':               'preprocessing[0][2]']          \n",
            "                                 (None, 128, 512),                                                \n",
            "                                 'encoder_outputs':                                               \n",
            "                                 [(None, 128, 512),                                               \n",
            "                                 (None, 128, 512),                                                \n",
            "                                 (None, 128, 512),                                                \n",
            "                                 (None, 128, 512)],                                               \n",
            "                                 'default': (None,                                                \n",
            "                                512)}                                                             \n",
            "                                                                                                  \n",
            " dropout_60 (Dropout)           (None, 512)          0           ['BERT_encoder[0][5]']           \n",
            "                                                                                                  \n",
            " dropout_61 (Dropout)           (None, 512)          0           ['BERT_encoder[0][5]']           \n",
            "                                                                                                  \n",
            " dropout_62 (Dropout)           (None, 512)          0           ['BERT_encoder[0][5]']           \n",
            "                                                                                                  \n",
            " dropout_63 (Dropout)           (None, 512)          0           ['BERT_encoder[0][5]']           \n",
            "                                                                                                  \n",
            " dropout_64 (Dropout)           (None, 512)          0           ['BERT_encoder[0][5]']           \n",
            "                                                                                                  \n",
            " dropout_65 (Dropout)           (None, 512)          0           ['BERT_encoder[0][5]']           \n",
            "                                                                                                  \n",
            " cohesion (Dense)               (None, 9)            4617        ['dropout_60[0][0]']             \n",
            "                                                                                                  \n",
            " syntax (Dense)                 (None, 9)            4617        ['dropout_61[0][0]']             \n",
            "                                                                                                  \n",
            " vocabulary (Dense)             (None, 9)            4617        ['dropout_62[0][0]']             \n",
            "                                                                                                  \n",
            " phraseology (Dense)            (None, 9)            4617        ['dropout_63[0][0]']             \n",
            "                                                                                                  \n",
            " grammar (Dense)                (None, 9)            4617        ['dropout_64[0][0]']             \n",
            "                                                                                                  \n",
            " conventions (Dense)            (None, 9)            4617        ['dropout_65[0][0]']             \n",
            "                                                                                                  \n",
            "==================================================================================================\n",
            "Total params: 28,791,351\n",
            "Trainable params: 28,791,350\n",
            "Non-trainable params: 1\n",
            "__________________________________________________________________________________________________\n"
          ]
        }
      ]
    },
    {
      "cell_type": "code",
      "source": [
        "print(classifier_model.non_trainable_weights)"
      ],
      "metadata": {
        "id": "z5hU0KOx_Uhg",
        "colab": {
          "base_uri": "https://localhost:8080/"
        },
        "outputId": "b5f5a95b-1512-4127-dcb8-7ccd3bb4ecc1"
      },
      "id": "z5hU0KOx_Uhg",
      "execution_count": null,
      "outputs": [
        {
          "output_type": "stream",
          "name": "stdout",
          "text": [
            "[<tf.Variable 'Variable:0' shape=() dtype=bool, numpy=True>]\n"
          ]
        }
      ]
    },
    {
      "cell_type": "code",
      "execution_count": null,
      "id": "1d6376fb",
      "metadata": {
        "scrolled": true,
        "id": "1d6376fb",
        "colab": {
          "base_uri": "https://localhost:8080/",
          "height": 437
        },
        "outputId": "e8bb7efd-87ee-40bd-ecde-5e9c1cdae0c5"
      },
      "outputs": [
        {
          "output_type": "execute_result",
          "data": {
            "image/png": "[encoded data removed]",
            "text/plain": [
              "<IPython.core.display.Image object>"
            ]
          },
          "metadata": {},
          "execution_count": 117
        }
      ],
      "source": [
        "from keras.utils import plot_model\n",
        "plot_model(classifier_model)"
      ]
    },
    {
      "cell_type": "code",
      "source": [
        "## Install addons to use check the phi coefficient.  if we use it\n",
        "## The Matthews correlation coefficient (MCC) is used in machine learning as a measure of the quality of binary and multiclass classifications.\n",
        "## It takes into account true and false positives and negatives and is generally regarded as a balanced measure which can be used even if the classes are of very different sizes.\n",
        "## The correlation coefficient value of MCC is between -1 and +1.\n",
        "## A coefficient of +1 represents a perfect prediction, 0 an average random prediction and -1 an inverse prediction. The statistic is also known as the phi coefficient.\n",
        "# pip install tensorflow_addons"
      ],
      "metadata": {
        "id": "UccO8ELD7KbN"
      },
      "id": "UccO8ELD7KbN",
      "execution_count": null,
      "outputs": []
    },
    {
      "cell_type": "code",
      "execution_count": null,
      "id": "8fe4f7df",
      "metadata": {
        "id": "8fe4f7df"
      },
      "outputs": [],
      "source": [
        "### Since we are using classification approach, here use the sparsecategoricalcrossentropy\n",
        "### as loss function and accuracy as metrics.\n",
        "### optimizer using the adan with lr set to 0.0001\n",
        "\n",
        "import tensorflow_addons as tfa\n",
        "\n",
        "# Loss function:\n",
        "optimizer = tf.keras.optimizers.Adam(learning_rate = 0.0001)\n",
        "loss = tf.keras.losses.SparseCategoricalCrossentropy(from_logits=False)\n",
        "#metrics = tfa.metrics.MatthewsCorrelationCoefficient(num_classes=9)\n",
        "\n",
        "# Loading the BERT model and training\n",
        "classifier_model.compile(optimizer=optimizer,\n",
        "                         loss=loss,\n",
        "                         metrics = 'accuracy'\n",
        "                         #loss = 'binary_crossentropy'\n",
        "                         #metrics=[metrics]\n",
        "                         )\n"
      ]
    },
    {
      "cell_type": "code",
      "execution_count": null,
      "id": "05d7c3c5",
      "metadata": {
        "id": "05d7c3c5"
      },
      "outputs": [],
      "source": [
        "x_input = [i for i in x['cleaned_full_text']]\n",
        "#y_input = [x[EEL_metrics[0]].values,x[EEL_metrics[1]].values,x[EEL_metrics[2]].values,\n",
        "#           x[EEL_metrics[3]].values,x[EEL_metrics[4]].values,x[EEL_metrics[5]].values]\n",
        "x_val_input = [i for i in x_val['cleaned_full_text']]\n",
        "#y_val_input = [x_val[EEL_metrics[0]].values,x_val[EEL_metrics[1]].values,x_val[EEL_metrics[2]].values,\n",
        "#              x_val[EEL_metrics[3]].values,x_val[EEL_metrics[4]].values,x_val[EEL_metrics[5]].values]\n",
        "x_test_input = [i for i in test_ds['cleaned_full_text']]"
      ]
    },
    {
      "cell_type": "code",
      "source": [
        "## encode the labels, same thing as below\n",
        "#score = [1.0, 1.5, 2.0, 2.5, 3.0, 3.5, 4.0, 4.5, 5.0]\n",
        "#y_input = x[EEL_metrics].replace(\n",
        "#    [1.0, 1.5, 2.0, 2.5, 3.0, 3.5, 4.0, 4.5, 5.0], [ 1, 2, 3, 4, 5, 6, 7, 8,9])\n",
        "\n",
        "#y_input = y_input.astype('int')\n",
        "#y_input"
      ],
      "metadata": {
        "id": "7LI6OU8HvDei"
      },
      "id": "7LI6OU8HvDei",
      "execution_count": null,
      "outputs": []
    },
    {
      "cell_type": "code",
      "source": [
        "## get all the labels\n",
        "y_all = [x[EEL_metrics[0]].values,x[EEL_metrics[1]].values,x[EEL_metrics[2]].values,\n",
        "           x[EEL_metrics[3]].values,x[EEL_metrics[4]].values,x[EEL_metrics[5]].values]\n",
        "y_all_input = [x_val[EEL_metrics[0]].values,x_val[EEL_metrics[1]].values,x_val[EEL_metrics[2]].values,\n",
        "              x_val[EEL_metrics[3]].values,x_val[EEL_metrics[4]].values,x_val[EEL_metrics[5]].values]\n"
      ],
      "metadata": {
        "id": "Ak99es4-3r_c"
      },
      "id": "Ak99es4-3r_c",
      "execution_count": null,
      "outputs": []
    },
    {
      "cell_type": "code",
      "source": [
        "## label encoder our labels\n",
        "from sklearn.preprocessing import OneHotEncoder\n",
        "from sklearn.preprocessing import LabelEncoder\n",
        "label_enc = LabelEncoder().fit(y_all[0])\n",
        "one_hot = OneHotEncoder()"
      ],
      "metadata": {
        "id": "1w8aj1JUuk8K"
      },
      "id": "1w8aj1JUuk8K",
      "execution_count": null,
      "outputs": []
    },
    {
      "cell_type": "code",
      "source": [
        "## have our label encoded.\n",
        "y_input=[]\n",
        "y_val_input=[]\n",
        "for i in range(len(EEL_metrics)):\n",
        "  y_input.append(label_enc.transform(y_all[i]))\n",
        "  y_val_input.append(label_enc.transform(y_all_input[i]))"
      ],
      "metadata": {
        "id": "2INwMyR92-MK"
      },
      "id": "2INwMyR92-MK",
      "execution_count": null,
      "outputs": []
    },
    {
      "cell_type": "code",
      "source": [
        "## take a look at y_input, catergories from 0 to 8, corresponding to 9 classed( grades)\n",
        "y_input"
      ],
      "metadata": {
        "colab": {
          "base_uri": "https://localhost:8080/"
        },
        "id": "ZugdXHNN5pab",
        "outputId": "5716114b-089b-416d-aba5-7fe3e43218cb"
      },
      "id": "ZugdXHNN5pab",
      "execution_count": null,
      "outputs": [
        {
          "output_type": "execute_result",
          "data": {
            "text/plain": [
              "[array([0, 0, 0, ..., 8, 8, 8]),\n",
              " array([0, 0, 0, ..., 8, 8, 8]),\n",
              " array([0, 1, 1, ..., 8, 7, 8]),\n",
              " array([0, 0, 0, ..., 8, 8, 8]),\n",
              " array([0, 0, 0, ..., 7, 8, 8]),\n",
              " array([0, 0, 1, ..., 7, 8, 8])]"
            ]
          },
          "metadata": {},
          "execution_count": 136
        }
      ]
    },
    {
      "cell_type": "code",
      "source": [
        "## could've built vectors as well.\n",
        "#y_1 = pd.get_dummies(label_enc.transform(y_input[0]))\n",
        "#y_1"
      ],
      "metadata": {
        "id": "F7ORSVkk0MO0"
      },
      "id": "F7ORSVkk0MO0",
      "execution_count": null,
      "outputs": []
    },
    {
      "cell_type": "code",
      "execution_count": null,
      "id": "88d9909a",
      "metadata": {
        "colab": {
          "base_uri": "https://localhost:8080/"
        },
        "id": "88d9909a",
        "outputId": "1f4e9f58-c35a-4a2a-9b44-0a1610f2ccda"
      },
      "outputs": [
        {
          "output_type": "execute_result",
          "data": {
            "text/plain": [
              "((2933,), (978,))"
            ]
          },
          "metadata": {},
          "execution_count": 138
        }
      ],
      "source": [
        "## setup x_input as well.\n",
        "## and also check the shape\n",
        "x_input = np.stack(x_input, axis = 0)\n",
        "#y_input = np.stack(y_input, axis = 1)\n",
        "x_val_input = np.stack(x_val_input, axis = 0)\n",
        "#y_val_input = np.stack(y_val_input, axis = 1)\n",
        "x_test_input = np.stack(x_test_input, axis = 0)\n",
        "x_input.shape, x_val_input.shape, #y_input.shape, y_val_input.shape"
      ]
    },
    {
      "cell_type": "code",
      "execution_count": null,
      "id": "f38360e6",
      "metadata": {
        "scrolled": true,
        "colab": {
          "base_uri": "https://localhost:8080/"
        },
        "id": "f38360e6",
        "outputId": "a549c9f1-7cb8-4b46-f696-04e0b79f7a90"
      },
      "outputs": [
        {
          "output_type": "stream",
          "name": "stdout",
          "text": [
            "Training model with https://tfhub.dev/tensorflow/small_bert/bert_en_uncased_L-4_H-512_A-8/1\n",
            "Epoch 1/5\n",
            "92/92 [==============================] - 883s 9s/step - loss: 10.4868 - cohesion_loss: 1.7836 - syntax_loss: 1.7369 - vocabulary_loss: 1.6306 - phraseology_loss: 1.7535 - grammar_loss: 1.8288 - conventions_loss: 1.7534 - cohesion_accuracy: 0.2598 - syntax_accuracy: 0.2942 - vocabulary_accuracy: 0.3406 - phraseology_accuracy: 0.2683 - grammar_accuracy: 0.2492 - conventions_accuracy: 0.2820 - val_loss: 9.3877 - val_cohesion_loss: 1.5920 - val_syntax_loss: 1.5859 - val_vocabulary_loss: 1.4420 - val_phraseology_loss: 1.5589 - val_grammar_loss: 1.6282 - val_conventions_loss: 1.5807 - val_cohesion_accuracy: 0.2975 - val_syntax_accuracy: 0.3180 - val_vocabulary_accuracy: 0.4141 - val_phraseology_accuracy: 0.3344 - val_grammar_accuracy: 0.2812 - val_conventions_accuracy: 0.3528\n",
            "Epoch 2/5\n",
            "92/92 [==============================] - 860s 9s/step - loss: 9.3755 - cohesion_loss: 1.6252 - syntax_loss: 1.5475 - vocabulary_loss: 1.4352 - phraseology_loss: 1.5784 - grammar_loss: 1.6209 - conventions_loss: 1.5682 - cohesion_accuracy: 0.3099 - syntax_accuracy: 0.3362 - vocabulary_accuracy: 0.4098 - phraseology_accuracy: 0.3256 - grammar_accuracy: 0.3103 - conventions_accuracy: 0.3420 - val_loss: 9.0399 - val_cohesion_loss: 1.5517 - val_syntax_loss: 1.5169 - val_vocabulary_loss: 1.3930 - val_phraseology_loss: 1.5129 - val_grammar_loss: 1.5567 - val_conventions_loss: 1.5087 - val_cohesion_accuracy: 0.3241 - val_syntax_accuracy: 0.3476 - val_vocabulary_accuracy: 0.4254 - val_phraseology_accuracy: 0.3742 - val_grammar_accuracy: 0.3292 - val_conventions_accuracy: 0.3650\n",
            "Epoch 3/5\n",
            "92/92 [==============================] - 866s 9s/step - loss: 8.4939 - cohesion_loss: 1.4961 - syntax_loss: 1.3918 - vocabulary_loss: 1.3046 - phraseology_loss: 1.4073 - grammar_loss: 1.4819 - conventions_loss: 1.4123 - cohesion_accuracy: 0.3720 - syntax_accuracy: 0.3928 - vocabulary_accuracy: 0.4480 - phraseology_accuracy: 0.3952 - grammar_accuracy: 0.3549 - conventions_accuracy: 0.3945 - val_loss: 9.2455 - val_cohesion_loss: 1.5792 - val_syntax_loss: 1.5730 - val_vocabulary_loss: 1.4354 - val_phraseology_loss: 1.5424 - val_grammar_loss: 1.5741 - val_conventions_loss: 1.5415 - val_cohesion_accuracy: 0.3231 - val_syntax_accuracy: 0.3538 - val_vocabulary_accuracy: 0.4223 - val_phraseology_accuracy: 0.3548 - val_grammar_accuracy: 0.3313 - val_conventions_accuracy: 0.3139\n",
            "Epoch 4/5\n",
            "92/92 [==============================] - 860s 9s/step - loss: 7.6849 - cohesion_loss: 1.3639 - syntax_loss: 1.2366 - vocabulary_loss: 1.1641 - phraseology_loss: 1.2814 - grammar_loss: 1.3480 - conventions_loss: 1.2909 - cohesion_accuracy: 0.4091 - syntax_accuracy: 0.4507 - vocabulary_accuracy: 0.4934 - phraseology_accuracy: 0.4391 - grammar_accuracy: 0.4088 - conventions_accuracy: 0.4330 - val_loss: 10.3040 - val_cohesion_loss: 1.7594 - val_syntax_loss: 1.7772 - val_vocabulary_loss: 1.5717 - val_phraseology_loss: 1.7317 - val_grammar_loss: 1.7421 - val_conventions_loss: 1.7220 - val_cohesion_accuracy: 0.2904 - val_syntax_accuracy: 0.3200 - val_vocabulary_accuracy: 0.3650 - val_phraseology_accuracy: 0.3057 - val_grammar_accuracy: 0.3108 - val_conventions_accuracy: 0.3139\n",
            "Epoch 5/5\n",
            "92/92 [==============================] - 862s 9s/step - loss: 7.0040 - cohesion_loss: 1.2334 - syntax_loss: 1.1271 - vocabulary_loss: 1.0579 - phraseology_loss: 1.1392 - grammar_loss: 1.2544 - conventions_loss: 1.1919 - cohesion_accuracy: 0.4705 - syntax_accuracy: 0.5066 - vocabulary_accuracy: 0.5520 - phraseology_accuracy: 0.5152 - grammar_accuracy: 0.4599 - conventions_accuracy: 0.4903 - val_loss: 10.4645 - val_cohesion_loss: 1.7701 - val_syntax_loss: 1.7564 - val_vocabulary_loss: 1.6619 - val_phraseology_loss: 1.7649 - val_grammar_loss: 1.8001 - val_conventions_loss: 1.7109 - val_cohesion_accuracy: 0.3016 - val_syntax_accuracy: 0.3303 - val_vocabulary_accuracy: 0.3875 - val_phraseology_accuracy: 0.3466 - val_grammar_accuracy: 0.2986 - val_conventions_accuracy: 0.3405\n"
          ]
        }
      ],
      "source": [
        "print(f'Training model with {tfhub_handle_encoder}')\n",
        "history = classifier_model.fit(x_input,\n",
        "                               y_input,\n",
        "                               validation_data=(x_val_input,y_val_input),\n",
        "                               shuffle=True,\n",
        "                               epochs=5)"
      ]
    },
    {
      "cell_type": "code",
      "source": [
        "history_loss = [x + '_loss' for x in EEL_metrics]\n",
        "history_accuracy = [x + '_accuracy' for x in EEL_metrics]\n",
        "history_val_loss = ['val_' + x + '_loss' for x in EEL_metrics]\n",
        "history_val_accuracy = ['val_' + x + '_accuracy' for x in EEL_metrics]"
      ],
      "metadata": {
        "id": "-GKXYJr_mAme"
      },
      "id": "-GKXYJr_mAme",
      "execution_count": null,
      "outputs": []
    },
    {
      "cell_type": "code",
      "source": [
        "def plot_loss(history):\n",
        "    plt.plot(history.history['loss'], label='loss')\n",
        "    plt.plot(history.history['val_loss'], label='val_loss')\n",
        "    plt.xlabel('Epoch')\n",
        "    plt.ylabel('loss')\n",
        "    plt.legend()\n",
        "    plt.grid(True)\n",
        "\n",
        "\n",
        "def plot_full_loss(history):\n",
        "    plt.rcParams[\"figure.figsize\"] = (10,6)\n",
        "    for i in range(len(EEL_metrics)):\n",
        "      plt.plot(history.history[history_loss[i]], label = history_loss[i])\n",
        "      plt.plot(history.history[history_val_loss[i]], label = history_val_loss[i])\n",
        "    plt.xlabel('Epoch')\n",
        "    plt.ylabel('Loss')\n",
        "    plt.legend()\n",
        "    plt.grid(True)\n",
        "\n",
        "def plot_full_accuracy(history):\n",
        "    plt.rcParams[\"figure.figsize\"] = (10,8)\n",
        "    for i in range(len(EEL_metrics)):\n",
        "      plt.plot(history.history[history_accuracy[i]], label = history_accuracy[i])\n",
        "      plt.plot(history.history[history_val_accuracy[i]], label = history_val_accuracy[i])\n",
        "    plt.xlabel('Epoch')\n",
        "    plt.ylabel('accuracy')\n",
        "    plt.legend()\n",
        "    plt.grid(True)"
      ],
      "metadata": {
        "id": "sSy9D4a2lA06"
      },
      "id": "sSy9D4a2lA06",
      "execution_count": null,
      "outputs": []
    },
    {
      "cell_type": "code",
      "source": [
        "plot_loss(history)"
      ],
      "metadata": {
        "colab": {
          "base_uri": "https://localhost:8080/",
          "height": 279
        },
        "id": "xBJnbnKPoDBu",
        "outputId": "c58d2e26-8135-4e4f-ce2b-455840146fa4"
      },
      "id": "xBJnbnKPoDBu",
      "execution_count": null,
      "outputs": [
        {
          "output_type": "display_data",
          "data": {
            "text/plain": [
              "<Figure size 432x288 with 1 Axes>"
            ],
            "image/png": "[encoded data removed]"
          },
          "metadata": {
            "needs_background": "light"
          }
        }
      ]
    },
    {
      "cell_type": "code",
      "source": [
        "plot_full_loss(history)"
      ],
      "metadata": {
        "colab": {
          "base_uri": "https://localhost:8080/",
          "height": 388
        },
        "id": "cjgttzxYnw0G",
        "outputId": "41af0c43-528e-4d8f-cec0-d7b30124d268"
      },
      "id": "cjgttzxYnw0G",
      "execution_count": null,
      "outputs": [
        {
          "output_type": "display_data",
          "data": {
            "text/plain": [
              "<Figure size 720x432 with 1 Axes>"
            ],
            "image/png": "[encoded data removed]"
          },
          "metadata": {
            "needs_background": "light"
          }
        }
      ]
    },
    {
      "cell_type": "code",
      "source": [
        "plot_full_accuracy(history)"
      ],
      "metadata": {
        "colab": {
          "base_uri": "https://localhost:8080/",
          "height": 497
        },
        "id": "m3vfuLKdoKGk",
        "outputId": "44f89d0d-9579-421a-ffd3-d751ba7bb2fc"
      },
      "id": "m3vfuLKdoKGk",
      "execution_count": null,
      "outputs": [
        {
          "output_type": "display_data",
          "data": {
            "text/plain": [
              "<Figure size 720x576 with 1 Axes>"
            ],
            "image/png": "[encoded data removed]"
          },
          "metadata": {
            "needs_background": "light"
          }
        }
      ]
    },
    {
      "cell_type": "code",
      "execution_count": null,
      "id": "6dedca69",
      "metadata": {
        "colab": {
          "base_uri": "https://localhost:8080/"
        },
        "id": "6dedca69",
        "outputId": "a3e1cc41-d49f-47f8-b1d2-6b60c5587017"
      },
      "outputs": [
        {
          "output_type": "stream",
          "name": "stdout",
          "text": [
            "1/1 [==============================] - 1s 973ms/step\n"
          ]
        },
        {
          "output_type": "execute_result",
          "data": {
            "text/plain": [
              "[array([[0.00087991, 0.00086769, 0.02166773, 0.1419627 , 0.6463059 ,\n",
              "         0.16921982, 0.01596915, 0.00198638, 0.00114064],\n",
              "        [0.00451025, 0.00407822, 0.1484875 , 0.3554126 , 0.40050897,\n",
              "         0.07626557, 0.00463075, 0.00256947, 0.00353668],\n",
              "        [0.00470275, 0.00107211, 0.00363564, 0.01157817, 0.04802183,\n",
              "         0.17679003, 0.6411747 , 0.08113395, 0.03189096]], dtype=float32),\n",
              " array([[0.00087855, 0.0017402 , 0.10322863, 0.3097255 , 0.47679612,\n",
              "         0.08178911, 0.02064646, 0.003496  , 0.00169952],\n",
              "        [0.00336123, 0.00485737, 0.30309433, 0.56275   , 0.09266167,\n",
              "         0.02729282, 0.00300633, 0.00135522, 0.00162101],\n",
              "        [0.00492329, 0.00529145, 0.0019548 , 0.00366753, 0.08827869,\n",
              "         0.3556574 , 0.47346437, 0.05476649, 0.01199598]], dtype=float32),\n",
              " array([[3.43195628e-04, 9.95303271e-04, 6.75806496e-03, 6.96168020e-02,\n",
              "         4.83731031e-01, 3.91987890e-01, 4.10722122e-02, 4.66233538e-03,\n",
              "         8.33149767e-04],\n",
              "        [8.01655347e-04, 1.94653973e-03, 5.29620685e-02, 1.79730028e-01,\n",
              "         7.15475976e-01, 2.73153782e-02, 1.70580223e-02, 3.12366872e-03,\n",
              "         1.58672605e-03],\n",
              "        [5.17136231e-03, 1.90097338e-03, 1.98658253e-03, 2.32905895e-03,\n",
              "         1.89474672e-02, 3.43900114e-01, 5.21068454e-01, 8.96281749e-02,\n",
              "         1.50677115e-02]], dtype=float32),\n",
              " array([[0.00158046, 0.00256762, 0.03556469, 0.14527239, 0.4951625 ,\n",
              "         0.28068337, 0.0328323 , 0.00366291, 0.00267367],\n",
              "        [0.00498284, 0.0081591 , 0.2165756 , 0.22797948, 0.50740343,\n",
              "         0.02639601, 0.00484961, 0.00200039, 0.00165362],\n",
              "        [0.00663947, 0.00387513, 0.00233053, 0.00204405, 0.05210675,\n",
              "         0.20469862, 0.62287235, 0.06685664, 0.03857648]], dtype=float32),\n",
              " array([[0.00197713, 0.00120771, 0.07008405, 0.30368543, 0.4206189 ,\n",
              "         0.17246619, 0.02598612, 0.00204697, 0.00192745],\n",
              "        [0.00320622, 0.00530486, 0.3005436 , 0.39231804, 0.2590731 ,\n",
              "         0.02594212, 0.00966427, 0.00180876, 0.0021391 ],\n",
              "        [0.00308731, 0.00309451, 0.0022007 , 0.00529964, 0.10027353,\n",
              "         0.31820363, 0.43643305, 0.10833422, 0.02307346]], dtype=float32),\n",
              " array([[0.00128569, 0.00136405, 0.04527207, 0.3206971 , 0.5084632 ,\n",
              "         0.10853524, 0.01047599, 0.00294566, 0.00096105],\n",
              "        [0.00454006, 0.00420278, 0.32011986, 0.40203992, 0.20011073,\n",
              "         0.05766335, 0.00779172, 0.00159907, 0.00193241],\n",
              "        [0.00487373, 0.00226399, 0.00106018, 0.00281855, 0.07634276,\n",
              "         0.3784556 , 0.44731003, 0.06990894, 0.01696619]], dtype=float32)]"
            ]
          },
          "metadata": {},
          "execution_count": 145
        }
      ],
      "source": [
        "predict = classifier_model.predict(x_test_input)\n",
        "pd.DataFrame(predict)"
      ]
    },
    {
      "cell_type": "code",
      "source": [
        "sample_sub"
      ],
      "metadata": {
        "colab": {
          "base_uri": "https://localhost:8080/",
          "height": 143
        },
        "id": "IgwoNV61bAMz",
        "outputId": "bd5a8946-44e2-43b9-c9c2-caa85942af30"
      },
      "id": "IgwoNV61bAMz",
      "execution_count": null,
      "outputs": [
        {
          "output_type": "execute_result",
          "data": {
            "text/plain": [
              "        text_id  cohesion  syntax  vocabulary  phraseology  grammar  \\\n",
              "0  0000C359D63E       3.0     3.0         3.0          3.0      3.0   \n",
              "1  000BAD50D026       3.0     3.0         3.0          3.0      3.0   \n",
              "2  00367BB2546B       3.0     3.0         3.0          3.0      3.0   \n",
              "\n",
              "   conventions  \n",
              "0          3.0  \n",
              "1          3.0  \n",
              "2          3.0  "
            ],
            "text/html": [
              "\n",
              "  <div id=\"df-2a159a1c-8c94-4de8-840b-6d8118351a0a\">\n",
              "    <div class=\"colab-df-container\">\n",
              "      <div>\n",
              "<style scoped>\n",
              "    .dataframe tbody tr th:only-of-type {\n",
              "        vertical-align: middle;\n",
              "    }\n",
              "\n",
              "    .dataframe tbody tr th {\n",
              "        vertical-align: top;\n",
              "    }\n",
              "\n",
              "    .dataframe thead th {\n",
              "        text-align: right;\n",
              "    }\n",
              "</style>\n",
              "<table border=\"1\" class=\"dataframe\">\n",
              "  <thead>\n",
              "    <tr style=\"text-align: right;\">\n",
              "      <th></th>\n",
              "      <th>text_id</th>\n",
              "      <th>cohesion</th>\n",
              "      <th>syntax</th>\n",
              "      <th>vocabulary</th>\n",
              "      <th>phraseology</th>\n",
              "      <th>grammar</th>\n",
              "      <th>conventions</th>\n",
              "    </tr>\n",
              "  </thead>\n",
              "  <tbody>\n",
              "    <tr>\n",
              "      <th>0</th>\n",
              "      <td>0000C359D63E</td>\n",
              "      <td>3.0</td>\n",
              "      <td>3.0</td>\n",
              "      <td>3.0</td>\n",
              "      <td>3.0</td>\n",
              "      <td>3.0</td>\n",
              "      <td>3.0</td>\n",
              "    </tr>\n",
              "    <tr>\n",
              "      <th>1</th>\n",
              "      <td>000BAD50D026</td>\n",
              "      <td>3.0</td>\n",
              "      <td>3.0</td>\n",
              "      <td>3.0</td>\n",
              "      <td>3.0</td>\n",
              "      <td>3.0</td>\n",
              "      <td>3.0</td>\n",
              "    </tr>\n",
              "    <tr>\n",
              "      <th>2</th>\n",
              "      <td>00367BB2546B</td>\n",
              "      <td>3.0</td>\n",
              "      <td>3.0</td>\n",
              "      <td>3.0</td>\n",
              "      <td>3.0</td>\n",
              "      <td>3.0</td>\n",
              "      <td>3.0</td>\n",
              "    </tr>\n",
              "  </tbody>\n",
              "</table>\n",
              "</div>\n",
              "      <button class=\"colab-df-convert\" onclick=\"convertToInteractive('df-2a159a1c-8c94-4de8-840b-6d8118351a0a')\"\n",
              "              title=\"Convert this dataframe to an interactive table.\"\n",
              "              style=\"display:none;\">\n",
              "        \n",
              "  <svg xmlns=\"http://www.w3.org/2000/svg\" height=\"24px\"viewBox=\"0 0 24 24\"\n",
              "       width=\"24px\">\n",
              "    <path d=\"M0 0h24v24H0V0z\" fill=\"none\"/>\n",
              "    <path d=\"M18.56 5.44l.94 2.06.94-2.06 2.06-.94-2.06-.94-.94-2.06-.94 2.06-2.06.94zm-11 1L8.5 8.5l.94-2.06 2.06-.94-2.06-.94L8.5 2.5l-.94 2.06-2.06.94zm10 10l.94 2.06.94-2.06 2.06-.94-2.06-.94-.94-2.06-.94 2.06-2.06.94z\"/><path d=\"M17.41 7.96l-1.37-1.37c-.4-.4-.92-.59-1.43-.59-.52 0-1.04.2-1.43.59L10.3 9.45l-7.72 7.72c-.78.78-.78 2.05 0 2.83L4 21.41c.39.39.9.59 1.41.59.51 0 1.02-.2 1.41-.59l7.78-7.78 2.81-2.81c.8-.78.8-2.07 0-2.86zM5.41 20L4 18.59l7.72-7.72 1.47 1.35L5.41 20z\"/>\n",
              "  </svg>\n",
              "      </button>\n",
              "      \n",
              "  <style>\n",
              "    .colab-df-container {\n",
              "      display:flex;\n",
              "      flex-wrap:wrap;\n",
              "      gap: 12px;\n",
              "    }\n",
              "\n",
              "    .colab-df-convert {\n",
              "      background-color: #E8F0FE;\n",
              "      border: none;\n",
              "      border-radius: 50%;\n",
              "      cursor: pointer;\n",
              "      display: none;\n",
              "      fill: #1967D2;\n",
              "      height: 32px;\n",
              "      padding: 0 0 0 0;\n",
              "      width: 32px;\n",
              "    }\n",
              "\n",
              "    .colab-df-convert:hover {\n",
              "      background-color: #E2EBFA;\n",
              "      box-shadow: 0px 1px 2px rgba(60, 64, 67, 0.3), 0px 1px 3px 1px rgba(60, 64, 67, 0.15);\n",
              "      fill: #174EA6;\n",
              "    }\n",
              "\n",
              "    [theme=dark] .colab-df-convert {\n",
              "      background-color: #3B4455;\n",
              "      fill: #D2E3FC;\n",
              "    }\n",
              "\n",
              "    [theme=dark] .colab-df-convert:hover {\n",
              "      background-color: #434B5C;\n",
              "      box-shadow: 0px 1px 3px 1px rgba(0, 0, 0, 0.15);\n",
              "      filter: drop-shadow(0px 1px 2px rgba(0, 0, 0, 0.3));\n",
              "      fill: #FFFFFF;\n",
              "    }\n",
              "  </style>\n",
              "\n",
              "      <script>\n",
              "        const buttonEl =\n",
              "          document.querySelector('#df-2a159a1c-8c94-4de8-840b-6d8118351a0a button.colab-df-convert');\n",
              "        buttonEl.style.display =\n",
              "          google.colab.kernel.accessAllowed ? 'block' : 'none';\n",
              "\n",
              "        async function convertToInteractive(key) {\n",
              "          const element = document.querySelector('#df-2a159a1c-8c94-4de8-840b-6d8118351a0a');\n",
              "          const dataTable =\n",
              "            await google.colab.kernel.invokeFunction('convertToInteractive',\n",
              "                                                     [key], {});\n",
              "          if (!dataTable) return;\n",
              "\n",
              "          const docLinkHtml = 'Like what you see? Visit the ' +\n",
              "            '<a target=\"_blank\" href=https://colab.research.google.com/notebooks/data_table.ipynb>data table notebook</a>'\n",
              "            + ' to learn more about interactive tables.';\n",
              "          element.innerHTML = '';\n",
              "          dataTable['output_type'] = 'display_data';\n",
              "          await google.colab.output.renderOutput(dataTable, element);\n",
              "          const docLink = document.createElement('div');\n",
              "          docLink.innerHTML = docLinkHtml;\n",
              "          element.appendChild(docLink);\n",
              "        }\n",
              "      </script>\n",
              "    </div>\n",
              "  </div>\n",
              "  "
            ]
          },
          "metadata": {},
          "execution_count": 152
        }
      ]
    },
    {
      "cell_type": "code",
      "source": [
        "predict[0][2]"
      ],
      "metadata": {
        "colab": {
          "base_uri": "https://localhost:8080/"
        },
        "id": "Q6eAaCeXbrE0",
        "outputId": "57aa4171-f282-4bd1-e5cd-cef58830f02d"
      },
      "id": "Q6eAaCeXbrE0",
      "execution_count": null,
      "outputs": [
        {
          "output_type": "execute_result",
          "data": {
            "text/plain": [
              "array([0.00470275, 0.00107211, 0.00363564, 0.01157817, 0.04802183,\n",
              "       0.17679003, 0.6411747 , 0.08113395, 0.03189096], dtype=float32)"
            ]
          },
          "metadata": {},
          "execution_count": 156
        }
      ]
    },
    {
      "cell_type": "code",
      "source": [
        "for i in range(len(EEL_metrics)):\n",
        "  for j in range(3):\n",
        "    sample_sub[EEL_metrics[i]][j] = np.argmax(predict[i][j])"
      ],
      "metadata": {
        "colab": {
          "base_uri": "https://localhost:8080/"
        },
        "id": "rT-p9VpiaYIQ",
        "outputId": "d7534f05-b235-450a-8587-a75b321989e5"
      },
      "id": "rT-p9VpiaYIQ",
      "execution_count": null,
      "outputs": [
        {
          "output_type": "stream",
          "name": "stderr",
          "text": [
            "<ipython-input-159-0a3e43bd1d8b>:3: SettingWithCopyWarning: \n",
            "A value is trying to be set on a copy of a slice from a DataFrame\n",
            "\n",
            "See the caveats in the documentation: https://pandas.pydata.org/pandas-docs/stable/user_guide/indexing.html#returning-a-view-versus-a-copy\n",
            "  sample_sub[EEL_metrics[i]][j] = np.argmax(predict[i][j])\n"
          ]
        }
      ]
    },
    {
      "cell_type": "code",
      "source": [
        "sample_sub"
      ],
      "metadata": {
        "colab": {
          "base_uri": "https://localhost:8080/",
          "height": 143
        },
        "id": "7rLiwFwrcBcT",
        "outputId": "b941f799-001f-44b6-b54a-991375692bbb"
      },
      "id": "7rLiwFwrcBcT",
      "execution_count": null,
      "outputs": [
        {
          "output_type": "execute_result",
          "data": {
            "text/plain": [
              "        text_id  cohesion  syntax  vocabulary  phraseology  grammar  \\\n",
              "0  0000C359D63E         4       4           4            4        4   \n",
              "1  000BAD50D026         4       3           4            4        3   \n",
              "2  00367BB2546B         6       6           6            6        6   \n",
              "\n",
              "   conventions  \n",
              "0            4  \n",
              "1            3  \n",
              "2            6  "
            ],
            "text/html": [
              "\n",
              "  <div id=\"df-ace27097-4326-496e-ba09-ebd4926ce896\">\n",
              "    <div class=\"colab-df-container\">\n",
              "      <div>\n",
              "<style scoped>\n",
              "    .dataframe tbody tr th:only-of-type {\n",
              "        vertical-align: middle;\n",
              "    }\n",
              "\n",
              "    .dataframe tbody tr th {\n",
              "        vertical-align: top;\n",
              "    }\n",
              "\n",
              "    .dataframe thead th {\n",
              "        text-align: right;\n",
              "    }\n",
              "</style>\n",
              "<table border=\"1\" class=\"dataframe\">\n",
              "  <thead>\n",
              "    <tr style=\"text-align: right;\">\n",
              "      <th></th>\n",
              "      <th>text_id</th>\n",
              "      <th>cohesion</th>\n",
              "      <th>syntax</th>\n",
              "      <th>vocabulary</th>\n",
              "      <th>phraseology</th>\n",
              "      <th>grammar</th>\n",
              "      <th>conventions</th>\n",
              "    </tr>\n",
              "  </thead>\n",
              "  <tbody>\n",
              "    <tr>\n",
              "      <th>0</th>\n",
              "      <td>0000C359D63E</td>\n",
              "      <td>4</td>\n",
              "      <td>4</td>\n",
              "      <td>4</td>\n",
              "      <td>4</td>\n",
              "      <td>4</td>\n",
              "      <td>4</td>\n",
              "    </tr>\n",
              "    <tr>\n",
              "      <th>1</th>\n",
              "      <td>000BAD50D026</td>\n",
              "      <td>4</td>\n",
              "      <td>3</td>\n",
              "      <td>4</td>\n",
              "      <td>4</td>\n",
              "      <td>3</td>\n",
              "      <td>3</td>\n",
              "    </tr>\n",
              "    <tr>\n",
              "      <th>2</th>\n",
              "      <td>00367BB2546B</td>\n",
              "      <td>6</td>\n",
              "      <td>6</td>\n",
              "      <td>6</td>\n",
              "      <td>6</td>\n",
              "      <td>6</td>\n",
              "      <td>6</td>\n",
              "    </tr>\n",
              "  </tbody>\n",
              "</table>\n",
              "</div>\n",
              "      <button class=\"colab-df-convert\" onclick=\"convertToInteractive('df-ace27097-4326-496e-ba09-ebd4926ce896')\"\n",
              "              title=\"Convert this dataframe to an interactive table.\"\n",
              "              style=\"display:none;\">\n",
              "        \n",
              "  <svg xmlns=\"http://www.w3.org/2000/svg\" height=\"24px\"viewBox=\"0 0 24 24\"\n",
              "       width=\"24px\">\n",
              "    <path d=\"M0 0h24v24H0V0z\" fill=\"none\"/>\n",
              "    <path d=\"M18.56 5.44l.94 2.06.94-2.06 2.06-.94-2.06-.94-.94-2.06-.94 2.06-2.06.94zm-11 1L8.5 8.5l.94-2.06 2.06-.94-2.06-.94L8.5 2.5l-.94 2.06-2.06.94zm10 10l.94 2.06.94-2.06 2.06-.94-2.06-.94-.94-2.06-.94 2.06-2.06.94z\"/><path d=\"M17.41 7.96l-1.37-1.37c-.4-.4-.92-.59-1.43-.59-.52 0-1.04.2-1.43.59L10.3 9.45l-7.72 7.72c-.78.78-.78 2.05 0 2.83L4 21.41c.39.39.9.59 1.41.59.51 0 1.02-.2 1.41-.59l7.78-7.78 2.81-2.81c.8-.78.8-2.07 0-2.86zM5.41 20L4 18.59l7.72-7.72 1.47 1.35L5.41 20z\"/>\n",
              "  </svg>\n",
              "      </button>\n",
              "      \n",
              "  <style>\n",
              "    .colab-df-container {\n",
              "      display:flex;\n",
              "      flex-wrap:wrap;\n",
              "      gap: 12px;\n",
              "    }\n",
              "\n",
              "    .colab-df-convert {\n",
              "      background-color: #E8F0FE;\n",
              "      border: none;\n",
              "      border-radius: 50%;\n",
              "      cursor: pointer;\n",
              "      display: none;\n",
              "      fill: #1967D2;\n",
              "      height: 32px;\n",
              "      padding: 0 0 0 0;\n",
              "      width: 32px;\n",
              "    }\n",
              "\n",
              "    .colab-df-convert:hover {\n",
              "      background-color: #E2EBFA;\n",
              "      box-shadow: 0px 1px 2px rgba(60, 64, 67, 0.3), 0px 1px 3px 1px rgba(60, 64, 67, 0.15);\n",
              "      fill: #174EA6;\n",
              "    }\n",
              "\n",
              "    [theme=dark] .colab-df-convert {\n",
              "      background-color: #3B4455;\n",
              "      fill: #D2E3FC;\n",
              "    }\n",
              "\n",
              "    [theme=dark] .colab-df-convert:hover {\n",
              "      background-color: #434B5C;\n",
              "      box-shadow: 0px 1px 3px 1px rgba(0, 0, 0, 0.15);\n",
              "      filter: drop-shadow(0px 1px 2px rgba(0, 0, 0, 0.3));\n",
              "      fill: #FFFFFF;\n",
              "    }\n",
              "  </style>\n",
              "\n",
              "      <script>\n",
              "        const buttonEl =\n",
              "          document.querySelector('#df-ace27097-4326-496e-ba09-ebd4926ce896 button.colab-df-convert');\n",
              "        buttonEl.style.display =\n",
              "          google.colab.kernel.accessAllowed ? 'block' : 'none';\n",
              "\n",
              "        async function convertToInteractive(key) {\n",
              "          const element = document.querySelector('#df-ace27097-4326-496e-ba09-ebd4926ce896');\n",
              "          const dataTable =\n",
              "            await google.colab.kernel.invokeFunction('convertToInteractive',\n",
              "                                                     [key], {});\n",
              "          if (!dataTable) return;\n",
              "\n",
              "          const docLinkHtml = 'Like what you see? Visit the ' +\n",
              "            '<a target=\"_blank\" href=https://colab.research.google.com/notebooks/data_table.ipynb>data table notebook</a>'\n",
              "            + ' to learn more about interactive tables.';\n",
              "          element.innerHTML = '';\n",
              "          dataTable['output_type'] = 'display_data';\n",
              "          await google.colab.output.renderOutput(dataTable, element);\n",
              "          const docLink = document.createElement('div');\n",
              "          docLink.innerHTML = docLinkHtml;\n",
              "          element.appendChild(docLink);\n",
              "        }\n",
              "      </script>\n",
              "    </div>\n",
              "  </div>\n",
              "  "
            ]
          },
          "metadata": {},
          "execution_count": 160
        }
      ]
    },
    {
      "cell_type": "code",
      "source": [
        "# with the smallBert The input is truncated to 128 tokens (The number of tokens can be customized)\n",
        "sample_sub[EEL_metrics].replace([ 0, 1, 2, 3, 4, 5, 6, 7, 8] , [1.0, 1.5, 2.0, 2.5, 3.0, 3.5, 4.0, 4.5, 5.0])\n"
      ],
      "metadata": {
        "id": "xOovcG9Q9Y-G",
        "colab": {
          "base_uri": "https://localhost:8080/",
          "height": 143
        },
        "outputId": "1077d0a4-05bf-4d32-f96c-f64662fe7459"
      },
      "id": "xOovcG9Q9Y-G",
      "execution_count": null,
      "outputs": [
        {
          "output_type": "execute_result",
          "data": {
            "text/plain": [
              "   cohesion  syntax  vocabulary  phraseology  grammar  conventions\n",
              "0       3.0     3.0         3.0          3.0      3.0          3.0\n",
              "1       3.0     2.5         3.0          3.0      2.5          2.5\n",
              "2       4.0     4.0         4.0          4.0      4.0          4.0"
            ],
            "text/html": [
              "\n",
              "  <div id=\"df-61fbe379-f81d-4cae-8b91-f9253c80e94b\">\n",
              "    <div class=\"colab-df-container\">\n",
              "      <div>\n",
              "<style scoped>\n",
              "    .dataframe tbody tr th:only-of-type {\n",
              "        vertical-align: middle;\n",
              "    }\n",
              "\n",
              "    .dataframe tbody tr th {\n",
              "        vertical-align: top;\n",
              "    }\n",
              "\n",
              "    .dataframe thead th {\n",
              "        text-align: right;\n",
              "    }\n",
              "</style>\n",
              "<table border=\"1\" class=\"dataframe\">\n",
              "  <thead>\n",
              "    <tr style=\"text-align: right;\">\n",
              "      <th></th>\n",
              "      <th>cohesion</th>\n",
              "      <th>syntax</th>\n",
              "      <th>vocabulary</th>\n",
              "      <th>phraseology</th>\n",
              "      <th>grammar</th>\n",
              "      <th>conventions</th>\n",
              "    </tr>\n",
              "  </thead>\n",
              "  <tbody>\n",
              "    <tr>\n",
              "      <th>0</th>\n",
              "      <td>3.0</td>\n",
              "      <td>3.0</td>\n",
              "      <td>3.0</td>\n",
              "      <td>3.0</td>\n",
              "      <td>3.0</td>\n",
              "      <td>3.0</td>\n",
              "    </tr>\n",
              "    <tr>\n",
              "      <th>1</th>\n",
              "      <td>3.0</td>\n",
              "      <td>2.5</td>\n",
              "      <td>3.0</td>\n",
              "      <td>3.0</td>\n",
              "      <td>2.5</td>\n",
              "      <td>2.5</td>\n",
              "    </tr>\n",
              "    <tr>\n",
              "      <th>2</th>\n",
              "      <td>4.0</td>\n",
              "      <td>4.0</td>\n",
              "      <td>4.0</td>\n",
              "      <td>4.0</td>\n",
              "      <td>4.0</td>\n",
              "      <td>4.0</td>\n",
              "    </tr>\n",
              "  </tbody>\n",
              "</table>\n",
              "</div>\n",
              "      <button class=\"colab-df-convert\" onclick=\"convertToInteractive('df-61fbe379-f81d-4cae-8b91-f9253c80e94b')\"\n",
              "              title=\"Convert this dataframe to an interactive table.\"\n",
              "              style=\"display:none;\">\n",
              "        \n",
              "  <svg xmlns=\"http://www.w3.org/2000/svg\" height=\"24px\"viewBox=\"0 0 24 24\"\n",
              "       width=\"24px\">\n",
              "    <path d=\"M0 0h24v24H0V0z\" fill=\"none\"/>\n",
              "    <path d=\"M18.56 5.44l.94 2.06.94-2.06 2.06-.94-2.06-.94-.94-2.06-.94 2.06-2.06.94zm-11 1L8.5 8.5l.94-2.06 2.06-.94-2.06-.94L8.5 2.5l-.94 2.06-2.06.94zm10 10l.94 2.06.94-2.06 2.06-.94-2.06-.94-.94-2.06-.94 2.06-2.06.94z\"/><path d=\"M17.41 7.96l-1.37-1.37c-.4-.4-.92-.59-1.43-.59-.52 0-1.04.2-1.43.59L10.3 9.45l-7.72 7.72c-.78.78-.78 2.05 0 2.83L4 21.41c.39.39.9.59 1.41.59.51 0 1.02-.2 1.41-.59l7.78-7.78 2.81-2.81c.8-.78.8-2.07 0-2.86zM5.41 20L4 18.59l7.72-7.72 1.47 1.35L5.41 20z\"/>\n",
              "  </svg>\n",
              "      </button>\n",
              "      \n",
              "  <style>\n",
              "    .colab-df-container {\n",
              "      display:flex;\n",
              "      flex-wrap:wrap;\n",
              "      gap: 12px;\n",
              "    }\n",
              "\n",
              "    .colab-df-convert {\n",
              "      background-color: #E8F0FE;\n",
              "      border: none;\n",
              "      border-radius: 50%;\n",
              "      cursor: pointer;\n",
              "      display: none;\n",
              "      fill: #1967D2;\n",
              "      height: 32px;\n",
              "      padding: 0 0 0 0;\n",
              "      width: 32px;\n",
              "    }\n",
              "\n",
              "    .colab-df-convert:hover {\n",
              "      background-color: #E2EBFA;\n",
              "      box-shadow: 0px 1px 2px rgba(60, 64, 67, 0.3), 0px 1px 3px 1px rgba(60, 64, 67, 0.15);\n",
              "      fill: #174EA6;\n",
              "    }\n",
              "\n",
              "    [theme=dark] .colab-df-convert {\n",
              "      background-color: #3B4455;\n",
              "      fill: #D2E3FC;\n",
              "    }\n",
              "\n",
              "    [theme=dark] .colab-df-convert:hover {\n",
              "      background-color: #434B5C;\n",
              "      box-shadow: 0px 1px 3px 1px rgba(0, 0, 0, 0.15);\n",
              "      filter: drop-shadow(0px 1px 2px rgba(0, 0, 0, 0.3));\n",
              "      fill: #FFFFFF;\n",
              "    }\n",
              "  </style>\n",
              "\n",
              "      <script>\n",
              "        const buttonEl =\n",
              "          document.querySelector('#df-61fbe379-f81d-4cae-8b91-f9253c80e94b button.colab-df-convert');\n",
              "        buttonEl.style.display =\n",
              "          google.colab.kernel.accessAllowed ? 'block' : 'none';\n",
              "\n",
              "        async function convertToInteractive(key) {\n",
              "          const element = document.querySelector('#df-61fbe379-f81d-4cae-8b91-f9253c80e94b');\n",
              "          const dataTable =\n",
              "            await google.colab.kernel.invokeFunction('convertToInteractive',\n",
              "                                                     [key], {});\n",
              "          if (!dataTable) return;\n",
              "\n",
              "          const docLinkHtml = 'Like what you see? Visit the ' +\n",
              "            '<a target=\"_blank\" href=https://colab.research.google.com/notebooks/data_table.ipynb>data table notebook</a>'\n",
              "            + ' to learn more about interactive tables.';\n",
              "          element.innerHTML = '';\n",
              "          dataTable['output_type'] = 'display_data';\n",
              "          await google.colab.output.renderOutput(dataTable, element);\n",
              "          const docLink = document.createElement('div');\n",
              "          docLink.innerHTML = docLinkHtml;\n",
              "          element.appendChild(docLink);\n",
              "        }\n",
              "      </script>\n",
              "    </div>\n",
              "  </div>\n",
              "  "
            ]
          },
          "metadata": {},
          "execution_count": 161
        }
      ]
    },
    {
      "cell_type": "code",
      "source": [
        "### Take a look at test_ds 1 and 2, looks 2 is better."
      ],
      "metadata": {
        "id": "SlgwjTQmdd0M"
      },
      "id": "SlgwjTQmdd0M",
      "execution_count": null,
      "outputs": []
    },
    {
      "cell_type": "code",
      "source": [
        "test_ds['full_text'][2]"
      ],
      "metadata": {
        "colab": {
          "base_uri": "https://localhost:8080/",
          "height": 140
        },
        "id": "pYvAHli_cnYO",
        "outputId": "befb0cca-3809-4bab-c42d-20352847c6a1"
      },
      "id": "pYvAHli_cnYO",
      "execution_count": null,
      "outputs": [
        {
          "output_type": "execute_result",
          "data": {
            "text/plain": [
              "'Thomas Jefferson once states that \"it is wonderful how much we can get done when we are always doing something,I agree to this statement. Some people say that it is always better to always be doing something than to be inactive and so nothing at all to chase after on your dreams. always doing something lets you feel a sense of accomplishment,it makes you want to strive to do even more than what you did,you can also learn something along the way.\\n\\nThe first reason that always doing is better than doing nothing is that it gives you a sense of you accomplishing something. when you finish a task you feel successful with yourself in saying that you pursued something and kept going. for example,when you graduate from school and move on to collage,you feel successful you also know that you worked as hard as you can to complete your schooling and onto collage or even to the real world to work.\\n\\nSecondly,accomplishing your goals makes you want to strive to do more. when you complete something you may think to yourself,\"if I did this than what else can i did with my life?\". Accomplishing something could make you want to do even more. For example, when you finish such as school then later move out of the house and live on you own,it gives you a sense of you being an independent person and you having the capability to live on you own and also to manage you own life how you want it to be. lastly it gives you the chance to go higher in your career.\\n\\nFinally it give you the opportunity to learn new and useful thing along the way that you may be able to use in your own life. by accomplishing something you can learn how to help you self to accomplish new and better things in you life. For example ,by finishing school you will take all that you learned and you can apply it it some aspect of your life to help you succeed in life. You can also apply it to the job you pursue or even to get a higher education.\\n\\nAlthough some may disagree with me and say that inactivity is helpful when trying to accomplish something because it will not cause stress on you ,what this fails to show is that it lets you become a better person in your day to day life. in conclusion always doing is better than doing nothing because it helps you achieve more in you life,makes you feel accomplished in life, and shows that you can always strive to do more in you life '"
            ],
            "application/vnd.google.colaboratory.intrinsic+json": {
              "type": "string"
            }
          },
          "metadata": {},
          "execution_count": 163
        }
      ]
    },
    {
      "cell_type": "code",
      "source": [
        "test_ds['full_text'][1]"
      ],
      "metadata": {
        "colab": {
          "base_uri": "https://localhost:8080/",
          "height": 140
        },
        "id": "sv8po2irdN2I",
        "outputId": "97af5f77-1593-4b07-db57-fbb11ad73991"
      },
      "id": "sv8po2irdN2I",
      "execution_count": null,
      "outputs": [
        {
          "output_type": "execute_result",
          "data": {
            "text/plain": [
              "\"Do you think students would benefit from being able attend classes from home?\\n\\nYes! its benefit for student who attend classes from home. Because some student want to attend classes from home because they thinks it's very important for them . And they think they can learned fast, and understand than they student who attend classes from school. For example my friend told me that she's attand classes from home it's good for her, because they is some subject she didn't understand when she attend classes from school but when she attend the home classes she good for that subject. she like science she think science its important for her but she didn't understand anything any science but she understand science because she attend classes from home. And some parent doesn't want they are children to attend classes from school, because many christian doesn't want they are children to attend to classes from school because they doesn't believe science and they want they are children to be disrespectful for teacher or for them. Maybe student can deciding to attend classes from home because it's benefit for them and it's good for the people who have lot of money. It's not any people who can attend classes from home.\\n\\nsome student attend classes from home because they hate bull or trouble. because they is student who come to school to bull other student or to fight with other. I know they is some people who scared about fight or bull by someone. For example the was a girl who attend very day to school and they was three girl they bull and beat her everyday and try to kill her self because she think she doesn't have anyone who can fight for her and when her parent sigh her want to kill herself, immediately they stop her, and they say they can not let they children to go back for school and they think every school it's like that school. so that why attand class from home it's good sometime. They are student who attend classes from home for the reason because to provide the experience and to show that they can try to learned themselves. In order to achieve anything at all in life a attend classes from home would must being take a deciding whether. \""
            ],
            "application/vnd.google.colaboratory.intrinsic+json": {
              "type": "string"
            }
          },
          "metadata": {},
          "execution_count": 165
        }
      ]
    },
    {
      "cell_type": "code",
      "source": [
        "x_input[0]"
      ],
      "metadata": {
        "colab": {
          "base_uri": "https://localhost:8080/",
          "height": 140
        },
        "id": "XjvSb_h4d1bJ",
        "outputId": "5ce572ea-a044-4384-ac4f-cb31fe10f5c5"
      },
      "id": "XjvSb_h4d1bJ",
      "execution_count": null,
      "outputs": [
        {
          "output_type": "execute_result",
          "data": {
            "text/plain": [
              "'some student offer distance learning as an option for student to attend classes from homr by wat of online pr video conferencing. i think student would benefit form being able to attend classesfrom home. you are authorized take the electronic version of this you will taking this promptsome student offer distance learning as an option for student to attend classes from homr by wat of online pr video conferencing. some student offer distance learning as an option for student to attend classes from homr by wat of online pr video conferencing. some student offer distance learning as an option.online pr video conferencing. the right view the prompt and teh checklist for writers vvsome student offer distance learning as an option for student to attend classes from homr by wat of online pr video conferencing. some student offer distance learning as an option for student to attend classes from homr by wat of online pr video conferencing. some student offer distance learning as an option for student to attend classes from homr by wat of online pr video conferencing. some student offer distance learning as an option for student to attend classes from homr by wat of online pr video conferencing. some student offer distance learning as an option for student to attend classes from homr by wat of online pr video conferencing. some student offer distance learning as an option for student to attend classes from homr by wat of online pr video conferencing. some student offer distance learning as an option for student.'"
            ],
            "application/vnd.google.colaboratory.intrinsic+json": {
              "type": "string"
            }
          },
          "metadata": {},
          "execution_count": 169
        }
      ]
    },
    {
      "cell_type": "code",
      "source": [
        "x_test_Train = x_input[:1]"
      ],
      "metadata": {
        "id": "hcBS_AbieGzT"
      },
      "id": "hcBS_AbieGzT",
      "execution_count": null,
      "outputs": []
    },
    {
      "cell_type": "code",
      "source": [
        "test = classifier_model.predict(x_test_Train)"
      ],
      "metadata": {
        "colab": {
          "base_uri": "https://localhost:8080/"
        },
        "id": "2fIqQFm5dl2_",
        "outputId": "5493344f-a3b2-41ce-c740-cfef1d1f379c"
      },
      "id": "2fIqQFm5dl2_",
      "execution_count": null,
      "outputs": [
        {
          "output_type": "stream",
          "name": "stdout",
          "text": [
            "1/1 [==============================] - 0s 129ms/step\n"
          ]
        }
      ]
    },
    {
      "cell_type": "code",
      "source": [
        "test"
      ],
      "metadata": {
        "colab": {
          "base_uri": "https://localhost:8080/"
        },
        "id": "mzPWuUrkduoS",
        "outputId": "2d59f283-d2bc-4b65-8d84-8eff006d0218"
      },
      "id": "mzPWuUrkduoS",
      "execution_count": null,
      "outputs": [
        {
          "output_type": "execute_result",
          "data": {
            "text/plain": [
              "[array([[0.3891567 , 0.2929403 , 0.01355844, 0.00943811, 0.00275476,\n",
              "         0.00555132, 0.00622435, 0.07520558, 0.20517045]], dtype=float32),\n",
              " array([[0.21506695, 0.7433345 , 0.00691156, 0.00484853, 0.00302283,\n",
              "         0.0033967 , 0.00308   , 0.00312731, 0.01721169]], dtype=float32),\n",
              " array([[0.5071662 , 0.31417722, 0.11686143, 0.00925538, 0.01124137,\n",
              "         0.00187596, 0.00315297, 0.01741539, 0.01885412]], dtype=float32),\n",
              " array([[0.75463086, 0.14972995, 0.01016958, 0.00401805, 0.01771468,\n",
              "         0.00970666, 0.01492383, 0.00313201, 0.03597447]], dtype=float32),\n",
              " array([[0.21724215, 0.30155367, 0.05351608, 0.00988913, 0.01146523,\n",
              "         0.01376334, 0.01315404, 0.29238832, 0.08702803]], dtype=float32),\n",
              " array([[0.56440884, 0.30501172, 0.02673489, 0.00463481, 0.01437356,\n",
              "         0.01256418, 0.02366198, 0.0235457 , 0.02506432]], dtype=float32)]"
            ]
          },
          "metadata": {},
          "execution_count": 189
        }
      ]
    },
    {
      "cell_type": "code",
      "source": [
        "test_score =[]\n",
        "for i in range(len(EEL_metrics)):\n",
        "    test_score.append(np.argmax(test[i]))"
      ],
      "metadata": {
        "id": "_w956UCGePZR"
      },
      "id": "_w956UCGePZR",
      "execution_count": null,
      "outputs": []
    },
    {
      "cell_type": "code",
      "source": [
        "### Looks okay\n",
        "pd.DataFrame(test_score).replace([ 0, 1, 2, 3, 4, 5, 6, 7, 8] , [1.0, 1.5, 2.0, 2.5, 3.0, 3.5, 4.0, 4.5, 5.0])"
      ],
      "metadata": {
        "colab": {
          "base_uri": "https://localhost:8080/",
          "height": 238
        },
        "id": "9bRV5fUWenGw",
        "outputId": "07e149e9-982b-45d9-8c4a-d6d8801a4eda"
      },
      "id": "9bRV5fUWenGw",
      "execution_count": null,
      "outputs": [
        {
          "output_type": "execute_result",
          "data": {
            "text/plain": [
              "     0\n",
              "0  1.0\n",
              "1  1.5\n",
              "2  1.0\n",
              "3  1.0\n",
              "4  1.5\n",
              "5  1.0"
            ],
            "text/html": [
              "\n",
              "  <div id=\"df-5027c568-cbc5-447c-be19-5a1f775807cd\">\n",
              "    <div class=\"colab-df-container\">\n",
              "      <div>\n",
              "<style scoped>\n",
              "    .dataframe tbody tr th:only-of-type {\n",
              "        vertical-align: middle;\n",
              "    }\n",
              "\n",
              "    .dataframe tbody tr th {\n",
              "        vertical-align: top;\n",
              "    }\n",
              "\n",
              "    .dataframe thead th {\n",
              "        text-align: right;\n",
              "    }\n",
              "</style>\n",
              "<table border=\"1\" class=\"dataframe\">\n",
              "  <thead>\n",
              "    <tr style=\"text-align: right;\">\n",
              "      <th></th>\n",
              "      <th>0</th>\n",
              "    </tr>\n",
              "  </thead>\n",
              "  <tbody>\n",
              "    <tr>\n",
              "      <th>0</th>\n",
              "      <td>1.0</td>\n",
              "    </tr>\n",
              "    <tr>\n",
              "      <th>1</th>\n",
              "      <td>1.5</td>\n",
              "    </tr>\n",
              "    <tr>\n",
              "      <th>2</th>\n",
              "      <td>1.0</td>\n",
              "    </tr>\n",
              "    <tr>\n",
              "      <th>3</th>\n",
              "      <td>1.0</td>\n",
              "    </tr>\n",
              "    <tr>\n",
              "      <th>4</th>\n",
              "      <td>1.5</td>\n",
              "    </tr>\n",
              "    <tr>\n",
              "      <th>5</th>\n",
              "      <td>1.0</td>\n",
              "    </tr>\n",
              "  </tbody>\n",
              "</table>\n",
              "</div>\n",
              "      <button class=\"colab-df-convert\" onclick=\"convertToInteractive('df-5027c568-cbc5-447c-be19-5a1f775807cd')\"\n",
              "              title=\"Convert this dataframe to an interactive table.\"\n",
              "              style=\"display:none;\">\n",
              "        \n",
              "  <svg xmlns=\"http://www.w3.org/2000/svg\" height=\"24px\"viewBox=\"0 0 24 24\"\n",
              "       width=\"24px\">\n",
              "    <path d=\"M0 0h24v24H0V0z\" fill=\"none\"/>\n",
              "    <path d=\"M18.56 5.44l.94 2.06.94-2.06 2.06-.94-2.06-.94-.94-2.06-.94 2.06-2.06.94zm-11 1L8.5 8.5l.94-2.06 2.06-.94-2.06-.94L8.5 2.5l-.94 2.06-2.06.94zm10 10l.94 2.06.94-2.06 2.06-.94-2.06-.94-.94-2.06-.94 2.06-2.06.94z\"/><path d=\"M17.41 7.96l-1.37-1.37c-.4-.4-.92-.59-1.43-.59-.52 0-1.04.2-1.43.59L10.3 9.45l-7.72 7.72c-.78.78-.78 2.05 0 2.83L4 21.41c.39.39.9.59 1.41.59.51 0 1.02-.2 1.41-.59l7.78-7.78 2.81-2.81c.8-.78.8-2.07 0-2.86zM5.41 20L4 18.59l7.72-7.72 1.47 1.35L5.41 20z\"/>\n",
              "  </svg>\n",
              "      </button>\n",
              "      \n",
              "  <style>\n",
              "    .colab-df-container {\n",
              "      display:flex;\n",
              "      flex-wrap:wrap;\n",
              "      gap: 12px;\n",
              "    }\n",
              "\n",
              "    .colab-df-convert {\n",
              "      background-color: #E8F0FE;\n",
              "      border: none;\n",
              "      border-radius: 50%;\n",
              "      cursor: pointer;\n",
              "      display: none;\n",
              "      fill: #1967D2;\n",
              "      height: 32px;\n",
              "      padding: 0 0 0 0;\n",
              "      width: 32px;\n",
              "    }\n",
              "\n",
              "    .colab-df-convert:hover {\n",
              "      background-color: #E2EBFA;\n",
              "      box-shadow: 0px 1px 2px rgba(60, 64, 67, 0.3), 0px 1px 3px 1px rgba(60, 64, 67, 0.15);\n",
              "      fill: #174EA6;\n",
              "    }\n",
              "\n",
              "    [theme=dark] .colab-df-convert {\n",
              "      background-color: #3B4455;\n",
              "      fill: #D2E3FC;\n",
              "    }\n",
              "\n",
              "    [theme=dark] .colab-df-convert:hover {\n",
              "      background-color: #434B5C;\n",
              "      box-shadow: 0px 1px 3px 1px rgba(0, 0, 0, 0.15);\n",
              "      filter: drop-shadow(0px 1px 2px rgba(0, 0, 0, 0.3));\n",
              "      fill: #FFFFFF;\n",
              "    }\n",
              "  </style>\n",
              "\n",
              "      <script>\n",
              "        const buttonEl =\n",
              "          document.querySelector('#df-5027c568-cbc5-447c-be19-5a1f775807cd button.colab-df-convert');\n",
              "        buttonEl.style.display =\n",
              "          google.colab.kernel.accessAllowed ? 'block' : 'none';\n",
              "\n",
              "        async function convertToInteractive(key) {\n",
              "          const element = document.querySelector('#df-5027c568-cbc5-447c-be19-5a1f775807cd');\n",
              "          const dataTable =\n",
              "            await google.colab.kernel.invokeFunction('convertToInteractive',\n",
              "                                                     [key], {});\n",
              "          if (!dataTable) return;\n",
              "\n",
              "          const docLinkHtml = 'Like what you see? Visit the ' +\n",
              "            '<a target=\"_blank\" href=https://colab.research.google.com/notebooks/data_table.ipynb>data table notebook</a>'\n",
              "            + ' to learn more about interactive tables.';\n",
              "          element.innerHTML = '';\n",
              "          dataTable['output_type'] = 'display_data';\n",
              "          await google.colab.output.renderOutput(dataTable, element);\n",
              "          const docLink = document.createElement('div');\n",
              "          docLink.innerHTML = docLinkHtml;\n",
              "          element.appendChild(docLink);\n",
              "        }\n",
              "      </script>\n",
              "    </div>\n",
              "  </div>\n",
              "  "
            ]
          },
          "metadata": {},
          "execution_count": 194
        }
      ]
    },
    {
      "cell_type": "code",
      "source": [],
      "metadata": {
        "id": "LqEBdn7Ae2Af"
      },
      "id": "LqEBdn7Ae2Af",
      "execution_count": null,
      "outputs": []
    }
  ],
  "metadata": {
    "kernelspec": {
      "display_name": "Python 3 (ipykernel)",
      "language": "python",
      "name": "python3"
    },
    "language_info": {
      "codemirror_mode": {
        "name": "ipython",
        "version": 3
      },
      "file_extension": ".py",
      "mimetype": "text/x-python",
      "name": "python",
      "nbconvert_exporter": "python",
      "pygments_lexer": "ipython3",
      "version": "3.9.12"
    },
    "colab": {
      "provenance": [],
      "include_colab_link": true
    },
    "gpuClass": "standard",
    "accelerator": "GPU"
  },
  "nbformat": 4,
  "nbformat_minor": 5
}